{
 "cells": [
  {
   "cell_type": "code",
   "execution_count": 6,
   "metadata": {},
   "outputs": [],
   "source": [
    "import cv2\n",
    "import numpy as np\n",
    "import matplotlib.pyplot as plt"
   ]
  },
  {
   "cell_type": "markdown",
   "metadata": {},
   "source": [
    "## Handling uncertanity in localisation\n",
    "\n",
    "In this module we will provide the necessari information to understand how we are handling uncerainty in localising thimyo robot.\n",
    "\n",
    "When it comes to localusing the robot, it is of crucial importance to always have a clear information on where the robot is located, what orientation he has with a chosen referenc axis. Additionally it might be of interest to aslo know the speed as well as the rotational speed. \n",
    "\n",
    "The way our project is designed, we have multiple solutions to access information on the robots position. \n",
    "\n",
    "* The vision part can provid us with the information on where the robot is located as well as information on its orientation.\n",
    "* An other possibility is to read the wheelspeed on each of the two wheels and use this information to conclude where the robot is located. \n",
    "* A third possibility would be to access the accelometer data to get more direct information on the current orientation of the robot.\n",
    "\n",
    "All these possible sources of information could help us to extract the location whith their specific precision. \n",
    "\n",
    "But as all these sensors have a certain level of noise, as well as other typical individualitys specific to each sensor, it is important to chose the right sensors. Additionally it is crucial to implement a code that has the best chance of beeing able to extract the position and orientation as correct as possible.\n"
   ]
  },
  {
   "cell_type": "markdown",
   "metadata": {},
   "source": [
    "### Choosing the right filter\n",
    "\n",
    "The first step is to choose what kind of filter would be a possible solution to this problem. it should be a filter that is able to fuse sensor data, and predict with hight accuracy the state of the robot.\n",
    "\n",
    "There are multiple filters that would be able to solve this problem, but each has its own advantages and disadvantages:\n",
    "\n",
    "The following table shows a way to compare different filters and can help us to choose the right filter.\n",
    "\n",
    "<img src=\"https://csdl-images.computer.org/mags/pc/2003/03/figures/b3024t1.gif\" alt=\"The HSV color space\" width=\"900\"/>\n",
    "\n",
    "\n",
    "\n",
    "\n",
    "\n",
    "\n"
   ]
  },
  {
   "cell_type": "markdown",
   "metadata": {},
   "source": [
    "# Sources\n",
    "\n",
    "https://en.wikipedia.org/wiki/Recursive_Bayesian_estimation#:~:text=Essentially%2C%20Bayes%20filters%20allow%20robots,most%20recently%20acquired%20sensor%20data.&text=If%20the%20variables%20are%20normally,equal%20to%20the%20Kalman%20filter.\n",
    "\n",
    "https://rse-lab.cs.washington.edu/postscripts/bayes-filter-pervasive-03.pdf\n",
    "\n",
    "\n",
    "https://csdl-images.computer.org/mags/pc/2003/03/figures/b3024t1.gif\n",
    "(IMAGE)"
   ]
  }
 ],
 "metadata": {
  "kernelspec": {
   "display_name": "Python 3",
   "language": "python",
   "name": "python3"
  },
  "language_info": {
   "codemirror_mode": {
    "name": "ipython",
    "version": 3
   },
   "file_extension": ".py",
   "mimetype": "text/x-python",
   "name": "python",
   "nbconvert_exporter": "python",
   "pygments_lexer": "ipython3",
   "version": "3.8.5"
  },
  "varInspector": {
   "cols": {
    "lenName": 16,
    "lenType": 16,
    "lenVar": 40
   },
   "kernels_config": {
    "python": {
     "delete_cmd_postfix": "",
     "delete_cmd_prefix": "del ",
     "library": "var_list.py",
     "varRefreshCmd": "print(var_dic_list())"
    },
    "r": {
     "delete_cmd_postfix": ") ",
     "delete_cmd_prefix": "rm(",
     "library": "var_list.r",
     "varRefreshCmd": "cat(var_dic_list()) "
    }
   },
   "types_to_exclude": [
    "module",
    "function",
    "builtin_function_or_method",
    "instance",
    "_Feature"
   ],
   "window_display": false
  }
 },
 "nbformat": 4,
 "nbformat_minor": 4
}
