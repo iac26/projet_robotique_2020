{
 "cells": [
  {
   "cell_type": "code",
   "execution_count": 6,
   "metadata": {},
   "outputs": [],
   "source": [
    "import cv2\n",
    "import numpy as np\n",
    "import matplotlib.pyplot as plt"
   ]
  },
  {
   "cell_type": "markdown",
   "metadata": {},
   "source": [
    "# Handling uncertanity in localisation\n",
    "\n",
    "### Intro\n",
    "\n",
    "In this module we will provide the necessari information to understand how we are handling uncerainty in localising thimyo robot.\n",
    "\n",
    "When it comes to localusing the robot, it is of crucial importance to always have a clear information on where the robot is located, what orientation he has with a chosen referenc axis. Additionally it might be of interest to aslo know the speed as well as the rotational speed. \n",
    "\n",
    "The way our project is designed, we have multiple solutions to access information on the robots position. \n",
    "\n",
    "* The vision part can provid us with the information on where the robot is located as well as information on its orientation.\n",
    "* An other possibility is to read the wheelspeed on each of the two wheels and use this information to conclude where the robot is located. \n",
    "* A third possibility would be to access the accelometer data to get more direct information on the current orientation of the robot.\n",
    "\n",
    "All these possible sources of information could help us to extract the location whith their specific precision. \n",
    "\n",
    "But as all these sensors have a certain level of noise, as well as other typical individualitys specific to each sensor, it is important to chose the right sensors. Additionally it is crucial to implement a code that has the best chance of beeing able to extract the position and orientation as correct as possible.\n"
   ]
  },
  {
   "cell_type": "markdown",
   "metadata": {},
   "source": [
    "### Choosing the right filter\n",
    "\n",
    "The first step is to choose what kind of filter would be a possible solution to this problem. It should be a filter that is able to fuse sensor data, and predict with hight accuracy the state of the robot. \n",
    "\n",
    "There are multiple bayes filter that would be able to solve this problem, but each has its own advantages and disadvantages:\n",
    "\n",
    "The following table shows a way to compare different bayes filter and can help us to choose the right one.\n",
    "\n",
    "<img src=\"https://csdl-images.computer.org/mags/pc/2003/03/figures/b3024t1.gif\" alt=\"The HSV color space\" width=\"900\"/>\n",
    "\n",
    "\n",
    "By looking at this table it is important to desice what is the most important factor for our porject. Even if we would like to have a filter that does everything perfectly well, we need to choose one and take the specific inconwenience into account.\n",
    "\n",
    "We chose the Kalan filter as the best suted filter for our project. Mainly because:\n",
    "\n",
    "* Accuracy is an important facotor\n",
    "* Efficiency is an other aspect that is non negigable\n",
    "* We have accurate sensors with possible high refresh rate\n",
    "\n",
    "\n"
   ]
  },
  {
   "cell_type": "markdown",
   "metadata": {},
   "source": [
    "### System state X\n",
    "\n",
    "It is important to first decide what are the state variables that we want to use:\n",
    "\n",
    "For our porject there were two possible state vector X which could work to solve the problem at hand.\n",
    " \n",
    "$$x1 = \\begin{bmatrix} px \\\\ py \\\\ \\phi \\\\ v \\\\ \\dot\\phi \\end{bmatrix} \\ \\ \\ \\ \\ \\ or \\ \\ \\ \\ \\ x2 = \\begin{bmatrix} px \\\\ py \\\\ \\phi \\\\ vx \\\\ vy \\\\  \\dot\\phi \\end{bmatrix} $$\n",
    "\n",
    "\n",
    "\n",
    "* px and py stands for the absolute position along the x and y axis given in [mm].\n",
    "* vx and vy stand for the velocity along axis x and y, where as v stands for the mean velocity given in [$\\frac{mm}{s}$] along the angle $\\phi$.\n",
    "* $\\phi$ stands for the angle taht the robot incloses with the x axis, given in [rad].\n",
    "* $\\dot\\phi$ is the angular velocity given in [$\\frac{rad}{s}$]\n",
    "\n",
    "\n",
    "<img src=\"images/state.png\" alt=\"The HSV color space\" width=\"400\"/>\n",
    "\n",
    "The main differenc is that for the first state vector we use the average speed, where as for the second one we seperate the speed into the speed along x and along y.\n",
    "\n",
    "Form here there is a difference on how we would implement these state vecotrs. \n",
    "\n",
    "Choosin x1 we have a non-linear dependence to cslculate the futur state, where as x2 would be able to work with a linear approch. This has a direct impact on wheather we use a non linear oor a linera kalman filter.\n",
    "\n",
    "The dynamic model that would be used for the state x1 is a non-linear function of the previous state as it depends on the sinus and cosinus of the current angle $\\phi$. \n",
    "\n",
    "It was important for us to chose the state vector with less tototal numbe of states. So we went with x1 as our state vector.\n",
    "\n",
    "\n",
    "$$state \\ vector = x = \\begin{bmatrix} px \\\\ py \\\\ \\phi \\\\ v \\\\ \\dot\\phi \\end{bmatrix}$$\n",
    "\n",
    "\n",
    "Chosing this state vector we can defie the dynamic model to calculate the predicted state:\n",
    "\n",
    "\n",
    "$$state \\ vector = x = \\begin{bmatrix} px + \\frac{v}{\\dot\\phi}*(-sin(\\phi) + sin(T\\dot\\phi + \\phi)) \\\\ py + \\frac{v}{\\dot\\phi}*(cos(\\phi) - cos(T\\dot\\phi + \\phi)) \\\\ T\\dot\\phi + \\phi \\\\ v \\\\ \\dot\\phi \\end{bmatrix}$$\n",
    "\n",
    "\n",
    "\n",
    "\n",
    "\n",
    "\n",
    "As we already noted, this is a non-linear transition which forces us to use a non-linear Kalman-Filter, also called Extended-Kalman-Filter.\n",
    "\n",
    "\n",
    "\n",
    "\n"
   ]
  },
  {
   "cell_type": "markdown",
   "metadata": {},
   "source": [
    "### Choosing the right measurements\n",
    "\n",
    "We already talked about the possible measurements that we can use to estimate the state of the robot. \n",
    "\n",
    "We note here that the velocity sensor on each wheel has a hight momentary precision, but has the tendence to uncertenty the more time elapses. The camera has almost no shift with time but doesn't give us a perfect precision.\n",
    "\n",
    "The accelometr would also be a possible candidat to take into account, but he would be more helpful if he could be fused with a gyroscope. Sadly the thymio robot doesn't posess a gyroscop. Because of this we decided to us the camera as well as the velocyty measuremnts as inputs to our sytem.\n",
    "\n",
    "By fusing these measurements using an extended kalman filter we can hope to get a precis estimate of the robot with no shift in time.\n",
    "\n",
    "$$measurements =  \\begin{bmatrix} px \\ \\ \\ \\ (from \\ camera) \\\\ py \\ \\ \\ \\ (from \\ camera) \\\\ \\phi \\ \\ \\ \\ (form \\ camera) \\\\ v \\  \\ \\ \\ (form \\ robot) \\\\ \\dot\\phi \\ \\ \\ \\ (from \\ robot) \\end{bmatrix}$$\n",
    "\n",
    "The camera will provide us with the position along x and y as well as the orientation $\\phi$ of the robot.\n",
    "The mean velocity and the angular velocity can be calculated from the wheelspeed of the robot.\n",
    "\n"
   ]
  },
  {
   "cell_type": "markdown",
   "metadata": {},
   "source": [
    "### Update measurements\n",
    "\n",
    "When the camera has a new measurement avilabel, it will need to write it into the measuremtn vecore, so that it can be taken into account for the next state estimate, same holds for the velocity informations that comes form the thymio robot.\n",
    "\n",
    "To update the measurement vector we are able to call the function ```kalman.update_measurements(robot_pos, value_speed)``` form our main file.\n"
   ]
  },
  {
   "cell_type": "code",
   "execution_count": 75,
   "metadata": {},
   "outputs": [],
   "source": [
    "def update_measurements(self, camera_data, thymio_data):\n",
    "\n",
    "        # Extract the information\n",
    "        px = camera_data[0][0]\n",
    "        py = camera_data[0][1]\n",
    "        phi = camera_data[1]\n",
    "        left_speed = 0.327*thymio_data[1]\n",
    "        right_speed = 0.327*thymio_data[0]\n",
    "\n",
    "        # Converting the left and right speed, to an average speed and yawrate\n",
    "        speed = (left_speed + right_speed)/2\n",
    "        yawrate = (right_speed - left_speed)/(robot_diameter) \n",
    "\n",
    "        # Store the information at the right place\n",
    "        self.camera_avilable = camera_data[2]\n",
    "        self.measurements = np.matrix([px, py, phi, speed, yawrate]).T"
   ]
  },
  {
   "cell_type": "markdown",
   "metadata": {},
   "source": [
    "The kalman filter is implemented in a class. The object we work with was initialised as ```kalman```.\n",
    "\n",
    "The thymio robot will not directly output [$\\frac{mm}{s}$] as unit. So we need to multiply the measuremtn by a factor of conversion, so that we get the corrct unites, that can be used to predict the accurate state.\n",
    "\n",
    "By letting the robot drive a certain distance in a certain time, given a predefined speed. We found this factor of conversion to be $0.327$.\n",
    "\n",
    "With this information we are able to deduce the average speed $v$ and the yawrate $\\dot\\phi$ to be:\n",
    "\n",
    "\n",
    "$$v = \\frac{left\\_speed + right\\_speed}{2} \\ \\ \\ \\ \\ \\ \\ \\ \\ \\ \\ \\ \\ \\ \\ \\ \\ \\ \\ \\dot\\phi = \\frac{right\\_speed - left\\_speed}{robot\\_diameter}$$\n",
    "\n",
    "By calling the ```kalman.update_measurements(robot_pos, value_speed)``` we prepare the information and stock it inside the measurements vector.\n",
    "\n",
    "Another important parameter is updated by calling this function: camera_avilable. This information is needed, for the algorithm to know that the camera has not a valid measurement, and that we don't need to take the information of the camera into account.\n",
    "\n"
   ]
  },
  {
   "cell_type": "markdown",
   "metadata": {},
   "source": [
    "### Initialising all important parameters\n",
    "\n",
    "Now that we defined our state vector as well as what sensor information we are going to use, we can prepare all the necessary parameters, that the Extenden-Kalman-Filter needts to be initialised.\n",
    "By calling the function ```__init__(self, robot_pos)``` the following code is executed:  "
   ]
  },
  {
   "cell_type": "code",
   "execution_count": 76,
   "metadata": {},
   "outputs": [],
   "source": [
    "#Initailise Variables\n",
    "numstates = 5 # number of states (px, py, phi, v, phi_dot)\n",
    "camera_avilable = False\n",
    "dt = 1.0/10.0 # Initial sample rate is set to 10Hz\n",
    "P = 0\n",
    "Q = 0\n",
    "R = 0\n",
    "I = 0\n",
    "x = 0\n",
    "measurements = 0"
   ]
  },
  {
   "cell_type": "markdown",
   "metadata": {},
   "source": [
    "The first part of  ```__init__(self, robot_pos)``` creates the necessary global variable with a ```self.```, which was removed here for more clarity. \n",
    "\n",
    "All these variables are going to be reused in other parts of our code, and must be saved on a global level. \n",
    "\n",
    "The number of states are definit by x and are in our case exactly 5."
   ]
  },
  {
   "cell_type": "code",
   "execution_count": 77,
   "metadata": {},
   "outputs": [
    {
     "name": "stdout",
     "output_type": "stream",
     "text": [
      "P0 = \n",
      "[[1000.    0.    0.    0.    0.]\n",
      " [   0. 1000.    0.    0.    0.]\n",
      " [   0.    0. 1000.    0.    0.]\n",
      " [   0.    0.    0. 1000.    0.]\n",
      " [   0.    0.    0.    0. 1000.]] (5, 5)\n"
     ]
    }
   ],
   "source": [
    "# Initial Uncertainty matrix P0\n",
    "P = np.diag([1000.0, 1000.0, 1000.0, 1000.0, 1000.0])\n",
    "print('P0 = ')\n",
    "print(P, P.shape)"
   ]
  },
  {
   "cell_type": "markdown",
   "metadata": {},
   "source": [
    "The next step is to initialise the matrix P with the inital uncertainty. We chose 1000 to sutable number for our initialisation, given the fact that P will converge to the right values in the later part of the code. So the initialisation is not of crucial importance."
   ]
  },
  {
   "cell_type": "code",
   "execution_count": 78,
   "metadata": {},
   "outputs": [
    {
     "name": "stdout",
     "output_type": "stream",
     "text": [
      "Q = \n",
      "[[5.     0.     0.     0.     0.    ]\n",
      " [0.     5.     0.     0.     0.    ]\n",
      " [0.     0.     0.0872 0.     0.    ]\n",
      " [0.     0.     0.     6.15   0.    ]\n",
      " [0.     0.     0.     0.     0.1   ]] (5, 5)\n",
      "R =\n",
      "[[4.   0.   0.   0.   0.  ]\n",
      " [0.   4.   0.   0.   0.  ]\n",
      " [0.   0.   0.05 0.   0.  ]\n",
      " [0.   0.   0.   6.15 0.  ]\n",
      " [0.   0.   0.   0.   0.1 ]] (5, 5)\n",
      "I =\n",
      "[[1. 0. 0. 0. 0.]\n",
      " [0. 1. 0. 0. 0.]\n",
      " [0. 0. 1. 0. 0.]\n",
      " [0. 0. 0. 1. 0.]\n",
      " [0. 0. 0. 0. 1.]] (5, 5)\n"
     ]
    }
   ],
   "source": [
    "# Process Noise Covariance Matrix Q\n",
    "sCamera = 5  \n",
    "sCourse  = 0.0872 \n",
    "sSpeed= 6.15 \n",
    "sYawrate = 0.1\n",
    "Q = np.diag([sCamera, sCamera, sCourse, sSpeed, sYawrate])\n",
    "print('Q = ')\n",
    "print(Q, Q.shape)\n",
    "\n",
    "# Measurement Noise Covariance R\n",
    "varCamera = 4 # Standard Deviation of Camera Measurement\n",
    "varrot = 0.05 # Standard Deviation of rotation Measurement\n",
    "varspeed = 6.15 # Standard Deviation of the speed measurement\n",
    "varyaw = 0.1 # Standard Deviation of the yawrate measurement\n",
    "R = np.diag([varCamera, varCamera, varrot, varspeed, varyaw])\n",
    "print('R =')\n",
    "print(R, R.shape)\n",
    "\n",
    "# Identity Matrix I\n",
    "I = np.eye(numstates)\n",
    "print('I =')\n",
    "print(I, I.shape)"
   ]
  },
  {
   "cell_type": "markdown",
   "metadata": {},
   "source": [
    "Next the function ```__init__(self, robot_pos)``` creates the correct Q and R matrix. Q is the process noise covarience matrix and R stands for the measurement noise covariance matrix. These values were first estimated, as we can mor eor less deduce the precision of our sensor. Late on we slightly changed these parameters to tune the filter in the best way possible. The matrix R and Q are fix during each loop, they never change."
   ]
  },
  {
   "cell_type": "code",
   "execution_count": 79,
   "metadata": {},
   "outputs": [],
   "source": [
    "# This line was added as the function is called with this information\n",
    "robot_pos = [np.array([1 ,2]), 0.0, False]\n",
    "\n",
    "# Initial State Vector\n",
    "# The states are (px, py, phi, v, phi_dot) = ([mm], [mm], [rad],[mm/s],[rad/s])\n",
    "x = np.matrix([[int(robot_pos[0][0]), int(robot_pos[0][1]), float(robot_pos[1]), 0.0, 0.0]]).T\n",
    "#print('x =')\n",
    "#print(self.x, self.x.shape)\n",
    "\n",
    "\n",
    "# Initial measurement vector  (px, py, phi, v, phi_dot) = ([mm], [mm], [rad],[mm/s],[rad/s])  Will be mesured\n",
    "measurements = np.matrix([[int(robot_pos[0][0]), int(robot_pos[0][1]), float(robot_pos[1]), 0.0, 0.0]]).T\n",
    "#print('measurements = ')\n",
    "#print(self.measurements)"
   ]
  },
  {
   "cell_type": "markdown",
   "metadata": {},
   "source": [
    "The final part that is included in the function ```__init__(self, robot_pos)``` is the initilaisation of the state vector as well as the measurement vecotor. We initialise px, py and phi with the first measurement of the camera. The velovity v and yawrate phi_dot are initioalised with zera, as the robot does not not move nore turn in the beginning. "
   ]
  },
  {
   "cell_type": "markdown",
   "metadata": {},
   "source": [
    "### Estimate the position\n",
    "\n",
    "Now that all important parameters and variables are correctly initialised we can start and implement the actual Extenden_Kalman_Filter:\n",
    "\n",
    "<img src=\"https://raw.githubusercontent.com/balzer82/Kalman/cbea6399d12dd040e9061106a29236c0e183a545/Extended-Kalman-Filter-Step.png\" alt=\"The HSV color space\" width=\"750\"/>\n",
    "\n",
    "\n"
   ]
  },
  {
   "cell_type": "markdown",
   "metadata": {},
   "source": [
    "In this image you can see the basic work of an Extenden-Kalman-Filter. We already saw the initialization of P, R, Q and I. SO the next step will be the prediction of the state ahead as well as the ahead projection of the error covariance matrix.\n",
    "\n",
    "The predictioan as well as the correction are performed in the funcion ```estimate(self, dt)```\n",
    "\n",
    "This function is called with nothing but dt which stands for the elapsed time form the last call of the function to the curretn call. This variable is needed to predict the state ahead. And as it in not a constant variable, we are going to call the function with this variable."
   ]
  },
  {
   "cell_type": "code",
   "execution_count": 82,
   "metadata": {},
   "outputs": [
    {
     "name": "stdout",
     "output_type": "stream",
     "text": [
      "x = \n",
      "[[ 1.0000000e+00]\n",
      " [ 2.0000000e+00]\n",
      " [-9.9980004e-09]\n",
      " [ 0.0000000e+00]\n",
      " [ 1.0000000e-07]]\n"
     ]
    }
   ],
   "source": [
    "#  (Prediction) Prediction the state ahead\n",
    "#------------------------------------------------------------------------------\n",
    "\n",
    "# Attacking problem of driving \"almost\" straight                                      \n",
    "if np.abs(measurements[4])<0.0001: # Driving straight\n",
    "    x[0] = x[0] + x[3]*dt * np.cos(x[2])\n",
    "    x[1] = x[1] + x[3]*dt * np.sin(x[2])\n",
    "    x[2] = x[2]\n",
    "    x[3] = x[3]\n",
    "    x[4] = 0.0000001 # avoid numerical issues in Jacobians\n",
    "else: # otherwise\n",
    "    x[0] = x[0] + (x[3]/x[4]) * (np.sin(x[4]*dt+x[2]) - np.sin(x[2]))\n",
    "    x[1] = x[1] + (x[3]/x[4]) * (-np.cos(x[4]*dt+x[2])+ np.cos(x[2]))\n",
    "    x[2] = (x[2] + x[4]*dt + np.pi) % (2.0*np.pi) - np.pi\n",
    "    x[3] = x[3]\n",
    "    x[4] = x[4]\n",
    "print('x = ')\n",
    "print(x)"
   ]
  },
  {
   "cell_type": "markdown",
   "metadata": {},
   "source": [
    "We start by doing the prediction of our state ahead. The function was already introduced before. It is important to note that we are not allowed to divide by 0. This problem is takeing into account by this ```if``` statement. If the robot is almost driving straigt, we are addapting the function so that we don't need to divide by 0."
   ]
  },
  {
   "cell_type": "code",
   "execution_count": 84,
   "metadata": {},
   "outputs": [
    {
     "name": "stdout",
     "output_type": "stream",
     "text": [
      "JA = \n",
      "[[1.  0.  0.  0.1 0. ]\n",
      " [0.  1.  0.  0.  0. ]\n",
      " [0.  0.  1.  0.  0.1]\n",
      " [0.  0.  0.  1.  0. ]\n",
      " [0.  0.  0.  0.  1. ]]\n"
     ]
    }
   ],
   "source": [
    "# Calculation of the Jacobian of our dynamic matrix A\n",
    "a13 = float((x[3]/x[4]) * (np.cos(x[4]*dt+x[2]) - np.cos(x[2])))\n",
    "a14 = float((1.0/x[4]) * (np.sin(x[4]*dt+x[2]) - np.sin(x[2])))\n",
    "a15 = float((dt*x[3]/x[4])*np.cos(x[4]*dt+x[2]) - (x[3]/x[4]**2)*(np.sin(x[4]*dt+x[2]) - np.sin(x[2])))\n",
    "a23 = float((x[3]/x[4]) * (np.sin(x[4]*dt+x[2]) - np.sin(x[2])))\n",
    "a24 = float((1.0/x[4]) * (-np.cos(x[4]*dt+x[2]) + np.cos(x[2])))\n",
    "a25 = float((dt*x[3]/x[4])*np.sin(x[4]*dt+x[2]) - (x[3]/x[4]**2)*(-np.cos(x[4]*dt+x[2]) + np.cos(x[2])))\n",
    "JA = np.matrix([[1.0, 0.0, a13, a14, a15],\n",
    "                [0.0, 1.0, a23, a24, a25],\n",
    "                [0.0, 0.0, 1.0, 0.0, dt],\n",
    "                [0.0, 0.0, 0.0, 1.0, 0.0],\n",
    "                [0.0, 0.0, 0.0, 0.0, 1.0]])\n",
    "print('JA = ')\n",
    "print(JA)\n",
    "\n",
    "# Projection of the error covariance ahead\n",
    "P = JA*P*JA.T + Q\n"
   ]
  },
  {
   "cell_type": "markdown",
   "metadata": {},
   "source": [
    "Next we need to calculate the jacobian of the state matrix A. Even if it does't look too beautiful, iti sin't hard to understand. It is just the first-order partial derivitat of all its variables.\n",
    "Now that we have JA we can project the error covariance ahead. By using JA P as well as Q which were initialised beofore."
   ]
  },
  {
   "cell_type": "code",
   "execution_count": 89,
   "metadata": {},
   "outputs": [
    {
     "name": "stdout",
     "output_type": "stream",
     "text": [
      "JH = \n",
      "[[1. 0. 0. 0. 0.]\n",
      " [0. 1. 0. 0. 0.]\n",
      " [0. 0. 1. 0. 0.]\n",
      " [0. 0. 0. 1. 0.]\n",
      " [0. 0. 0. 0. 1.]]\n"
     ]
    }
   ],
   "source": [
    "# (Correction) Measurement Update \n",
    "# ---------------------------------------------------------------------------\n",
    "\n",
    "# CHecking if the camera measurements are avilable, form that we addapt the jacobian H\n",
    "if camera_avilable: \n",
    "    JH = np.diag([1.0, 1.0, 1.0, 1.0, 1.0])\n",
    "else: # every other step\n",
    "    JH = np.diag([0.0, 0.0, 0.0, 1.0, 1.0])  \n",
    "\n",
    "print('JH = ')\n",
    "print(JH)"
   ]
  },
  {
   "cell_type": "markdown",
   "metadata": {},
   "source": [
    "Now we start the correction (measurement update). For this we calculate the jacobian JH.\n",
    "If all measurements are avilabel this is nothing else then a 5x5 matrix with 1 on all of its diagonal values. But if the camera has no valid information we can not take the measurement into account, otherwise we will calculate a wrong error wor this executation."
   ]
  },
  {
   "cell_type": "code",
   "execution_count": 87,
   "metadata": {},
   "outputs": [
    {
     "name": "stdout",
     "output_type": "stream",
     "text": [
      "K = \n",
      "[[0.40915149 0.         0.         0.0022749  0.        ]\n",
      " [0.         0.40895967 0.         0.         0.        ]\n",
      " [0.         0.         0.42311124 0.         0.00192224]\n",
      " [0.00349765 0.         0.         0.37481619 0.        ]\n",
      " [0.         0.         0.00384448 0.         0.37490231]]\n",
      "x = \n",
      "[[ 1.00000000e+00]\n",
      " [ 2.00000000e+00]\n",
      " [-1.92349427e-10]\n",
      " [ 0.00000000e+00]\n",
      " [ 1.25104190e-08]]\n",
      "P = \n",
      "[[1.63660594e+00 0.00000000e+00 0.00000000e+00 1.39906064e-02\n",
      "  0.00000000e+00]\n",
      " [0.00000000e+00 1.63583867e+00 0.00000000e+00 0.00000000e+00\n",
      "  0.00000000e+00]\n",
      " [0.00000000e+00 0.00000000e+00 2.11555619e-02 0.00000000e+00\n",
      "  1.92224233e-04]\n",
      " [1.39906064e-02 0.00000000e+00 0.00000000e+00 2.30511958e+00\n",
      "  0.00000000e+00]\n",
      " [0.00000000e+00 0.00000000e+00 1.92224233e-04 0.00000000e+00\n",
      "  3.74902309e-02]]\n"
     ]
    }
   ],
   "source": [
    "# Calculating the Kalman gain     \n",
    "S = JH*P*JH.T + R\n",
    "K = (P*JH.T) * np.linalg.inv(S)\n",
    "\n",
    "print('K = ')\n",
    "print(K)\n",
    "\n",
    "# Updating the estimate \n",
    "temp = measurements - (JH*x)                         \n",
    "x = x + (K*temp)\n",
    "\n",
    "print('x = ')\n",
    "print(x)\n",
    "\n",
    "# Updating the error covariance P\n",
    "P = (I - (K*JH))*P\n",
    "\n",
    "print('P = ')\n",
    "print(P)\n",
    "\n",
    "# If there is no error, output True (always true)\n",
    "camera_avilable = True\n",
    "\n",
    "# Return the state vector in the correct form, so that it can be used correctly\n",
    "output = [np.array([x.item(0), x.item(1)]), x.item(2), camera_avilable]  "
   ]
  },
  {
   "cell_type": "markdown",
   "metadata": {},
   "source": [
    "Now we can finally calculate the kalman gain K and use it tu update the estimate which was performed before. This will be the state vector that we will output at the end. Additionally we can't forget tu update the error covariance P with the found K as well as JH.\n",
    "\n",
    "We are also going to output ```camera_avilabel = True``` as long as we don't have a problem. It is always true in our case."
   ]
  },
  {
   "cell_type": "markdown",
   "metadata": {},
   "source": [
    "### Testing\n",
    "\n",
    "Initially we tested the filter by sending him predefined measurements and checked if the output was coherent with what we expected. In this way we were able to detect possible mistakes beofre it was implemented into our project. \n",
    "\n",
    "Later on we executed the filter directly in our project and were abel to addapt the necessay parameter, until we reached the wanted performance. \n",
    "\n",
    "To better visualize the estimated state of the robot, we visualize the state on the live camera feed with a green arrow. \n",
    "\n",
    "This gave us the perfect opportunity to addapt all parameters, as well as testing the prediction when the robot faces different problems. \n",
    "\n",
    "<img src=\"images/arrow.png\" alt=\"The HSV color space\" width=\"500\"/>\n"
   ]
  },
  {
   "cell_type": "markdown",
   "metadata": {},
   "source": [
    "### Conclusion\n",
    "The Extended-Kalman_Filter works perfectly in our project and helps us to perfectly estimate the state of the robot. \n",
    "It works so well, that we are even abel to hide the robot from the camera, so that we can't get the measurememts from the camera, but still is able to predit the state of the robot. \n",
    "\n",
    "The robot is able to drive arround two corners with only the wheel_speed measurements and still the Ektended-Kalman_Filter is able to predict the state of the robot, with only a slight shift. \n",
    "\n"
   ]
  },
  {
   "cell_type": "markdown",
   "metadata": {},
   "source": [
    "### Sources\n",
    "\n",
    "https://en.wikipedia.org/wiki/Recursive_Bayesian_estimation#:~:text=Essentially%2C%20Bayes%20filters%20allow%20robots,most%20recently%20acquired%20sensor%20data.&text=If%20the%20variables%20are%20normally,equal%20to%20the%20Kalman%20filter.\n",
    "\n",
    "https://rse-lab.cs.washington.edu/postscripts/bayes-filter-pervasive-03.pdf\n",
    "\n",
    "\n",
    "https://csdl-images.computer.org/mags/pc/2003/03/figures/b3024t1.gif\n",
    "(IMAGE)\n",
    "\n",
    "https://github.com/balzer82/Kalman/blob/master/Extended-Kalman-Filter-CTRV.ipynb?create=1\n",
    "\n",
    "https://www.sciencedirect.com/science/article/pii/S2314717216300630\n",
    "\n",
    "https://en.wikipedia.org/wiki/Extended_Kalman_filter\n",
    "\n"
   ]
  }
 ],
 "metadata": {
  "kernelspec": {
   "display_name": "Python 3",
   "language": "python",
   "name": "python3"
  },
  "language_info": {
   "codemirror_mode": {
    "name": "ipython",
    "version": 3
   },
   "file_extension": ".py",
   "mimetype": "text/x-python",
   "name": "python",
   "nbconvert_exporter": "python",
   "pygments_lexer": "ipython3",
   "version": "3.8.5"
  },
  "varInspector": {
   "cols": {
    "lenName": 16,
    "lenType": 16,
    "lenVar": 40
   },
   "kernels_config": {
    "python": {
     "delete_cmd_postfix": "",
     "delete_cmd_prefix": "del ",
     "library": "var_list.py",
     "varRefreshCmd": "print(var_dic_list())"
    },
    "r": {
     "delete_cmd_postfix": ") ",
     "delete_cmd_prefix": "rm(",
     "library": "var_list.r",
     "varRefreshCmd": "cat(var_dic_list()) "
    }
   },
   "types_to_exclude": [
    "module",
    "function",
    "builtin_function_or_method",
    "instance",
    "_Feature"
   ],
   "window_display": false
  }
 },
 "nbformat": 4,
 "nbformat_minor": 4
}
