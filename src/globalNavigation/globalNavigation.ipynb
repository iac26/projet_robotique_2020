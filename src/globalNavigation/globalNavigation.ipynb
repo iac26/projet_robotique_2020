{
 "cells": [
  {
   "cell_type": "markdown",
   "metadata": {},
   "source": [
    "## Global Navigation\n",
    "\n",
    "The goal of this part is to create a trajectory that will allow the Thymio to pass through several interest point and come back to his initial position.\n",
    "\n",
    "The trajectory has to ensure that the Thymio avoid the global obstacles detected by the camera."
   ]
  },
  {
   "cell_type": "markdown",
   "metadata": {},
   "source": [
    "### Pass planning : Process flow\n",
    "\n",
    "The creation of our trajectory is composed of the following steps :\n",
    "\n",
    "- Dilatation of the obstacles to avoid collisions.\n",
    "\n",
    "- Visibility graph computation by using the previously dilated obstacles.\n",
    "\n",
    "- Pass planning computation by using the visibility graph and the interest point positions."
   ]
  },
  {
   "cell_type": "markdown",
   "metadata": {},
   "source": [
    "#### Obstacle dilatation\n",
    "\n",
    "To perform the obstacle dilatation, we have implemented two different algorithms in parallel with the aim of taking the one that will provide the best results.\n",
    "\n",
    "The first algorithm that we used is based on the dilatation function provided in the OpenCV library :\n",
    "\n",
    "- Find the contours of the global obstacles.\n",
    "\n",
    "- Create a grayscale image with the global obstacles in white and the rest in black.\n",
    "\n",
    "- Dilate the global obstacles in this image.\n",
    "\n",
    "- Find the new dilated contours.\n",
    "\n",
    "For more details on the OpenCV dilatation function, see [Morphological transformations in OpenCV](https://opencv-python-tutroals.readthedocs.io/en/latest/py_tutorials/py_imgproc/py_morphological_ops/py_morphological_ops.html)."
   ]
  },
  {
   "cell_type": "code",
   "execution_count": 23,
   "metadata": {},
   "outputs": [],
   "source": [
    "import cv2\n",
    "import sys\n",
    "import numpy as np\n",
    "\n",
    "sys.path.append(\"../vision\")\n",
    "\n",
    "from vision import *"
   ]
  },
  {
   "cell_type": "code",
   "execution_count": 36,
   "metadata": {},
   "outputs": [],
   "source": [
    "#RED_LOW  = [150, 100, 100]\n",
    "#RED_HIGH = [179, 255, 255]\n",
    "\n",
    "#DIL_COEFF_K = 15\n",
    "\n",
    "\n",
    "def detect_obstacles(frame, scale=1):\n",
    "    \n",
    "    # Find the contours of the global obstacles\n",
    "    frame = frame.copy()\n",
    "    red_low = np.array(RED_LOW, np.uint8)\n",
    "    red_high = np.array(RED_HIGH, np.uint8)\n",
    "    \n",
    "    clean_contours = find_color(frame, red_low, red_high)\n",
    "    \n",
    "    \n",
    "    # Some operations used for plotting purposes and scalling of the image in real dimmensions\n",
    "    cv2.drawContours(frame, clean_contours, -1, (0,255,0), 3)\n",
    "            \n",
    "    original_contours = []\n",
    "    for cnt in clean_contours:\n",
    "        ocnt = []\n",
    "        for pt in cnt:\n",
    "            ocnt.append(pt[0])\n",
    "        original_contours.append(np.multiply(ocnt, scale).astype(int))\n",
    "        \n",
    "        \n",
    "    # Create a grayscale image with the global obstacles in white and the rest in black\n",
    "    black = np.zeros(frame.shape[:2], dtype=np.uint8)\n",
    "    \n",
    "    for i in range(len(clean_contours)):\n",
    "        cv2.drawContours(black, clean_contours, i, (255), -1)\n",
    "\n",
    "    plt.figure()\n",
    "    plt.imshow(black)\n",
    "    \n",
    "    \n",
    "    # Dilate the global obstacles in this image\n",
    "    kernel = np.ones((DIL_COEFF_K,DIL_COEFF_K),np.uint8)\n",
    "    black = cv2.dilate(black, kernel, iterations = 15)\n",
    "\n",
    "    plt.figure()\n",
    "    plt.imshow(black)\n",
    "    \n",
    "    \n",
    "    # Find the new dilated contours\n",
    "    contours, hierarchy = cv2.findContours(black, cv2.RETR_EXTERNAL  , cv2.CHAIN_APPROX_SIMPLE)\n",
    "    \n",
    "    clean_dil_contours = cleanup_contours(contours, 1)\n",
    "\n",
    "    \n",
    "    # Some operations used for plotting purposes and scalling of the image in real dimmensions\n",
    "    scaled_contours = []\n",
    "    for cnt in clean_dil_contours:\n",
    "        ncnt = []\n",
    "        for pt in cnt:\n",
    "            frame = cv2.circle(frame, (pt[0][0], pt[0][1]), radius=5, color=(0, 0, 255), thickness=-1)\n",
    "            ncnt.append(pt[0])\n",
    "\n",
    "        scaled_contours.append(np.multiply(ncnt, scale).astype(int))\n",
    "    \n",
    "    \n",
    "    return scaled_contours, original_contours, frame"
   ]
  },
  {
   "cell_type": "markdown",
   "metadata": {},
   "source": [
    "To see the result of our algorithm, we will use the following function (note that this function will be also used to plot other results computed in the global Navigation part) :"
   ]
  },
  {
   "cell_type": "code",
   "execution_count": 37,
   "metadata": {},
   "outputs": [],
   "source": [
    "import matplotlib.pyplot as plt"
   ]
  },
  {
   "cell_type": "code",
   "execution_count": 38,
   "metadata": {},
   "outputs": [],
   "source": [
    "X = 0\n",
    "Y = 1\n",
    "\n",
    "def printGlobalNavigation(contours, contoursMapped, possibleDisplacement = {}, interestPoints = [], trajectory = []):\n",
    "    \"\"\"Plot the original contours and the dilated contours using matplotlib\n",
    "       Plot the visibility graph if possibleDisplacement is given \n",
    "       Plot the Thymio's point of interest if interestPoints is given\n",
    "       Plot the Thymio's path if the trajectory is given\n",
    "\n",
    "    Parameters\n",
    "    ----------\n",
    "    contours : list of list of list\n",
    "        The camera detect several obstacles\n",
    "        Each obstacle has several extremities\n",
    "        Each extremity has (x, y) coordinates\n",
    "\n",
    "    contoursMapped : list of list of list\n",
    "        Same structure as contours, each extremity's coordinate has been dilated\n",
    "\n",
    "    possibleDispacement : dictionary\n",
    "        Each extremity point has several visible points, i.e possible destinations for the Thymio\n",
    "\n",
    "    interestPoints : list of list\n",
    "        Each point of interest has (x, y) coordinates, i.e locations where the thymio need to go\n",
    "\n",
    "    trajectory : list of list\n",
    "        Each point of the trajectory has (x, y) coordinates\n",
    "\n",
    "    Returns\n",
    "    -------\n",
    "\n",
    "    \"\"\"\n",
    "\n",
    "    xOriginal = []\n",
    "    yOriginal = []\n",
    "    xDilated = []\n",
    "    yDilated = []\n",
    "\n",
    "    for obstacleOriginal in contours:\n",
    "        for extremityOriginal in obstacleOriginal:\n",
    "            xOriginal.append(extremityOriginal[X])\n",
    "            yOriginal.append(extremityOriginal[Y])\n",
    "\n",
    "        xOriginal.append(obstacleOriginal[0][X])\n",
    "        yOriginal.append(obstacleOriginal[0][Y])\n",
    "\n",
    "        plt.plot(xOriginal, yOriginal, 'b')\n",
    "\n",
    "        xOriginal.clear()\n",
    "        yOriginal.clear()\n",
    "\n",
    "    \n",
    "    for obstacleDilated in contoursMapped:\n",
    "        for extremityDilated in obstacleDilated:\n",
    "            xDilated.append(extremityDilated[X])\n",
    "            yDilated.append(extremityDilated[Y])\n",
    "\n",
    "        xDilated.append(obstacleDilated[0][X])\n",
    "        yDilated.append(obstacleDilated[0][Y])\n",
    "\n",
    "        plt.plot(xDilated, yDilated, 'm')\n",
    "\n",
    "        xDilated.clear()\n",
    "        yDilated.clear()\n",
    "\n",
    "\n",
    "    if possibleDisplacement:\n",
    "        for extremity in possibleDisplacement:\n",
    "            for visiblePoint in possibleDisplacement[extremity]:\n",
    "                plt.plot([extremity[X], visiblePoint[X]], [extremity[Y], visiblePoint[Y]], 'm')\n",
    "\n",
    "    \n",
    "    if interestPoints:\n",
    "        for point in interestPoints:\n",
    "            plt.plot([point[X]], [point[Y]], 'kx', markersize=12)\n",
    "\n",
    "\n",
    "    if trajectory:\n",
    "        for i in range (1, len(trajectory)):\n",
    "            plt.arrow(trajectory[i-1][X], trajectory[i-1][Y], trajectory[i][X] - trajectory[i-1][X], trajectory[i][Y] - trajectory[i-1][Y], head_width=8, length_includes_head=True, color  = 'k', width = 2)\n",
    "\n",
    "    plt.show()"
   ]
  },
  {
   "cell_type": "code",
   "execution_count": 39,
   "metadata": {},
   "outputs": [
    {
     "data": {
      "image/png": "[encoded data removed]",
      "text/plain": [
       "<Figure size 432x288 with 1 Axes>"
      ]
     },
     "metadata": {
      "needs_background": "light"
     },
     "output_type": "display_data"
    },
    {
     "data": {
      "image/png": "[encoded data removed]",
      "text/plain": [
       "<Figure size 432x288 with 1 Axes>"
      ]
     },
     "metadata": {
      "needs_background": "light"
     },
     "output_type": "display_data"
    },
    {
     "data": {
      "image/png": "[encoded data removed]",
      "text/plain": [
       "<Figure size 432x288 with 1 Axes>"
      ]
     },
     "metadata": {
      "needs_background": "light"
     },
     "output_type": "display_data"
    }
   ],
   "source": [
    "frame = cv2.imread(\"../vision/images/colors.png\")\n",
    "\n",
    "# Dilate obstacles and print them\n",
    "scaled_contours, original_contours, ret = detect_obstacles(frame)\n",
    "\n",
    "plt.figure()\n",
    "plt.gca().invert_yaxis()\n",
    "printGlobalNavigation(original_contours, scaled_contours)"
   ]
  },
  {
   "cell_type": "markdown",
   "metadata": {},
   "source": [
    "ICI MONTRER L'AUTRE METHODE"
   ]
  },
  {
   "cell_type": "markdown",
   "metadata": {},
   "source": [
    "#### Visibility graph computation\n",
    "\n"
   ]
  },
  {
   "cell_type": "code",
   "execution_count": null,
   "metadata": {},
   "outputs": [],
   "source": []
  }
 ],
 "metadata": {
  "kernelspec": {
   "display_name": "Python 3",
   "language": "python",
   "name": "python3"
  },
  "language_info": {
   "codemirror_mode": {
    "name": "ipython",
    "version": 3
   },
   "file_extension": ".py",
   "mimetype": "text/x-python",
   "name": "python",
   "nbconvert_exporter": "python",
   "pygments_lexer": "ipython3",
   "version": "3.8.6"
  }
 },
 "nbformat": 4,
 "nbformat_minor": 4
}
