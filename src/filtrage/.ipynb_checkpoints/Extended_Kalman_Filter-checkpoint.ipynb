{
 "cells": [
  {
   "cell_type": "code",
   "execution_count": 6,
   "metadata": {},
   "outputs": [],
   "source": [
    "import cv2\n",
    "import numpy as np\n",
    "import matplotlib.pyplot as plt"
   ]
  },
  {
   "cell_type": "markdown",
   "metadata": {},
   "source": [
    "# Handling uncertanity in localisation\n",
    "\n",
    "### Intro\n",
    "\n",
    "In this module we will provide the necessari information to understand how we are handling uncerainty in localising thimyo robot.\n",
    "\n",
    "When it comes to localusing the robot, it is of crucial importance to always have a clear information on where the robot is located, what orientation he has with a chosen referenc axis. Additionally it might be of interest to aslo know the speed as well as the rotational speed. \n",
    "\n",
    "The way our project is designed, we have multiple solutions to access information on the robots position. \n",
    "\n",
    "* The vision part can provid us with the information on where the robot is located as well as information on its orientation.\n",
    "* An other possibility is to read the wheelspeed on each of the two wheels and use this information to conclude where the robot is located. \n",
    "* A third possibility would be to access the accelometer data to get more direct information on the current orientation of the robot.\n",
    "\n",
    "All these possible sources of information could help us to extract the location whith their specific precision. \n",
    "\n",
    "But as all these sensors have a certain level of noise, as well as other typical individualitys specific to each sensor, it is important to chose the right sensors. Additionally it is crucial to implement a code that has the best chance of beeing able to extract the position and orientation as correct as possible.\n"
   ]
  },
  {
   "cell_type": "markdown",
   "metadata": {},
   "source": [
    "### Choosing the right filter\n",
    "\n",
    "The first step is to choose what kind of filter would be a possible solution to this problem. It should be a filter that is able to fuse sensor data, and predict with hight accuracy the state of the robot. \n",
    "\n",
    "There are multiple bayes filter that would be able to solve this problem, but each has its own advantages and disadvantages:\n",
    "\n",
    "The following table shows a way to compare different bayes filter and can help us to choose the right one.\n",
    "\n",
    "<img src=\"https://csdl-images.computer.org/mags/pc/2003/03/figures/b3024t1.gif\" alt=\"The HSV color space\" width=\"900\"/>\n",
    "\n",
    "\n",
    "By looking at this table it is important to desice what is the most important factor for our porject. Even if we would like to have a filter that does everything perfectly well, we need to choose one and take the specific inconwenience into account.\n",
    "\n",
    "We chose the Kalan filter as the best suted filter for our project. Mainly because:\n",
    "\n",
    "* Accuracy is an important facotor\n",
    "* Efficiency is an other aspect that is non negigable\n",
    "* We have accurate sensors with possible high refresh rate\n",
    "\n",
    "\n"
   ]
  },
  {
   "cell_type": "markdown",
   "metadata": {},
   "source": [
    "### System state X\n",
    "\n",
    "It is important to first decide what are the state variables that we want to use:\n",
    "\n",
    "For our porject there were two possible state vector X which could work to solve the problem at hand.\n",
    " \n",
    "$x1 = \\begin{bmatrix} px \\\\ py \\\\ \\phi \\\\ v \\\\ \\dot\\phi \\end{bmatrix} \\ \\ \\ \\ \\ \\ or \\ \\ \\ \\ \\ x2 = \\begin{bmatrix} px \\\\ py \\\\ \\phi \\\\ vx \\\\ vy \\\\  \\dot\\phi \\end{bmatrix} $\n",
    "\n",
    "\n",
    "\n",
    "* px and py stands for the absolute position along the x and y axis given in [mm].\n",
    "* vx and vy stand for the velocity along axis x and y, where as v stands for the mean velocity given in [$\\frac{mm}{s}$] along the angle $\\phi$.\n",
    "* $\\phi$ stands for the angle taht the robot incloses with the x axis, given in [rad].\n",
    "* $\\dot\\phi$ is the angular velocity given in [$\\frac{rad}{s}$]\n",
    "\n",
    "\n",
    "<img src=\"images/state.png\" alt=\"The HSV color space\" width=\"400\"/>\n",
    "\n",
    "The main differenc is that for the first state vector we use the average speed, where as for the second one we seperate the speed into the speed along x and along y.\n",
    "\n",
    "Form here there is a difference on how we would implement these state vecotrs. \n",
    "\n",
    "Choosin x1 we have a non-linear dependence to cslculate the futur state, where as x2 would be able to work with a linear approch. This has a direct impact on wheather we use a non linear oor a linera kalman filter.\n",
    "\n",
    "The dynamic model that would be used for the state x1 is a non-linear function of the previous state as it depends on the sinus and cosinus of the current angle $\\phi$. \n",
    "\n",
    "It was important for us to chose the state vector with less tototal numbe of states. So we went with x1 as our state vector.\n",
    "\n",
    "\n",
    "$state \\ vector = x = \\begin{bmatrix} px \\\\ py \\\\ \\phi \\\\ v \\\\ \\dot\\phi \\end{bmatrix}$\n",
    "\n",
    "\n",
    "Chosing this state vector we can defie the dynamic model to calculate the predicted state:\n",
    "\n",
    "\n",
    "$state \\ vector = x = \\begin{bmatrix} px + \\frac{v}{\\dot\\phi}*(-sin(\\phi) + sin(T\\dot\\phi + \\phi)) \\\\ py + \\frac{v}{\\dot\\phi}*(cos(\\phi) - cos(T\\dot\\phi + \\phi)) \\\\ T\\dot\\phi + \\phi \\\\ v \\\\ \\dot\\phi \\end{bmatrix}$\n",
    "\n",
    "\n",
    "\n",
    "\n",
    "\n",
    "\n",
    "As we already noted, this is a non-linear transition which forces us to use a non-linear Kalman-Filter, also called Extended-Kalman-Filter.\n",
    "\n",
    "\n",
    "\n",
    "\n"
   ]
  },
  {
   "cell_type": "markdown",
   "metadata": {},
   "source": [
    "### Choosing the right measurements\n",
    "\n",
    "We already talked about the possible measurements that we can use to estimate the state of the robot. \n",
    "\n",
    "We note here that the velocity sensor on each wheel has a hight momentary precision, but has the tendence to uncertenty the more time elapses. The camera has almost no shift with time but doesn't give us a perfect precision.\n",
    "\n",
    "The accelometr would also be a possible candidat to take into account, but he would be more helpful if he could be fused with a gyroscope. Sadly the thymio robot doesn't posess a gyroscop. Because of this we decided to us the camera as well as the velocyty measuremnts as inputs to our sytem.\n",
    "\n",
    "By fusing these measurements using an extended kalman filter we can hope to get a precis estimate of the robot with no shift in time.\n",
    "\n",
    "$measurements =  \\begin{bmatrix} px \\ \\ \\ \\ (from \\ camera) \\\\ py \\ \\ \\ \\ (from \\ camera) \\\\ \\phi \\ \\ \\ \\ (form \\ camera) \\\\ v \\  \\ \\ \\ (form \\ robot) \\\\ \\dot\\phi \\ \\ \\ \\ (from \\ robot) \\end{bmatrix}$\n",
    "\n",
    "The camera will provide us with the position along x and y as well as the orientation $\\phi$ of the robot.\n",
    "The mean velocity and the angular velocity can be calculated from the wheelspeed of the robot.\n",
    "\n"
   ]
  },
  {
   "cell_type": "markdown",
   "metadata": {},
   "source": [
    "### Update measurements\n",
    "\n",
    "When the camera has a new measurement avilabel, it will need to write it into the measuremtn vecore, so that it can be taken into account for the next state estimate, same holds for the velocity informations that comes form the thymio robot.\n",
    "\n",
    "To update the measurement vector we are able to call the function ```kalman.update_measurements(robot_pos, value_speed)``` form our main file.\n"
   ]
  },
  {
   "cell_type": "code",
   "execution_count": 15,
   "metadata": {},
   "outputs": [],
   "source": [
    "def update_measurements(self, camera_data, thymio_data):\n",
    "\n",
    "        # Extract the information\n",
    "        px = camera_data[0][0]\n",
    "        py = camera_data[0][1]\n",
    "        phi = camera_data[1]\n",
    "        left_speed = 0.327*thymio_data[1]\n",
    "        right_speed = 0.327*thymio_data[0]\n",
    "\n",
    "        # Converting the left and right speed, to an average speed and yawrate\n",
    "        speed = (left_speed + right_speed)/2\n",
    "        yawrate = (right_speed - left_speed)/(robot_diameter) \n",
    "\n",
    "        # Store the information at the right place\n",
    "        self.camera_avilable = camera_data[2]\n",
    "        self.measurements = np.matrix([px, py, phi, speed, yawrate]).T"
   ]
  },
  {
   "cell_type": "markdown",
   "metadata": {},
   "source": [
    "The kalman filter is implemented in a class. The object we work with was initialised as ```kalman```.\n",
    "\n",
    "The thymio robot will not directly output [$\\frac{mm}{s}$] as unit. So we need to multiply the measuremtn by a factor of conversion, so that we get the corrct unites, that can be used to predict the accurate state.\n",
    "\n",
    "By letting the robot drive a certain distance in a certain time, given a predefined speed. We found this factor of conversion to be $0.327$.\n",
    "\n",
    "SO now\n",
    "\n"
   ]
  },
  {
   "cell_type": "markdown",
   "metadata": {},
   "source": [
    "### Initialising all important parameters"
   ]
  },
  {
   "cell_type": "markdown",
   "metadata": {},
   "source": [
    "### Estimate the position"
   ]
  },
  {
   "cell_type": "markdown",
   "metadata": {},
   "source": [
    "### Conclusion"
   ]
  },
  {
   "cell_type": "markdown",
   "metadata": {},
   "source": [
    "### Sources\n",
    "\n",
    "https://en.wikipedia.org/wiki/Recursive_Bayesian_estimation#:~:text=Essentially%2C%20Bayes%20filters%20allow%20robots,most%20recently%20acquired%20sensor%20data.&text=If%20the%20variables%20are%20normally,equal%20to%20the%20Kalman%20filter.\n",
    "\n",
    "https://rse-lab.cs.washington.edu/postscripts/bayes-filter-pervasive-03.pdf\n",
    "\n",
    "\n",
    "https://csdl-images.computer.org/mags/pc/2003/03/figures/b3024t1.gif\n",
    "(IMAGE)\n",
    "\n",
    "https://github.com/balzer82/Kalman/blob/master/Extended-Kalman-Filter-CTRV.ipynb?create=1\n"
   ]
  }
 ],
 "metadata": {
  "kernelspec": {
   "display_name": "Python 3",
   "language": "python",
   "name": "python3"
  },
  "language_info": {
   "codemirror_mode": {
    "name": "ipython",
    "version": 3
   },
   "file_extension": ".py",
   "mimetype": "text/x-python",
   "name": "python",
   "nbconvert_exporter": "python",
   "pygments_lexer": "ipython3",
   "version": "3.8.5"
  },
  "varInspector": {
   "cols": {
    "lenName": 16,
    "lenType": 16,
    "lenVar": 40
   },
   "kernels_config": {
    "python": {
     "delete_cmd_postfix": "",
     "delete_cmd_prefix": "del ",
     "library": "var_list.py",
     "varRefreshCmd": "print(var_dic_list())"
    },
    "r": {
     "delete_cmd_postfix": ") ",
     "delete_cmd_prefix": "rm(",
     "library": "var_list.r",
     "varRefreshCmd": "cat(var_dic_list()) "
    }
   },
   "types_to_exclude": [
    "module",
    "function",
    "builtin_function_or_method",
    "instance",
    "_Feature"
   ],
   "window_display": false
  }
 },
 "nbformat": 4,
 "nbformat_minor": 4
}
