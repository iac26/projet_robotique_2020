{
 "cells": [
  {
   "cell_type": "markdown",
   "metadata": {},
   "source": [
    "Test Timer for sampling "
   ]
  },
  {
   "cell_type": "code",
   "execution_count": 10,
   "metadata": {},
   "outputs": [
    {
     "name": "stdout",
     "output_type": "stream",
     "text": [
      "motors' speed:  [0, 0]\n",
      "motors' speed:  [-4, 0]\n",
      "motors' speed:  [0, 0]\n",
      "{'name': '_id', 'offset': 0, 'size': 1}\n",
      "{'name': 'event.source', 'offset': 1, 'size': 1}\n",
      "{'name': 'event.args', 'offset': 2, 'size': 32}\n",
      "{'name': '_fwversion', 'offset': 34, 'size': 2}\n",
      "{'name': '_productId', 'offset': 36, 'size': 1}\n",
      "{'name': 'buttons._raw', 'offset': 37, 'size': 5}\n",
      "{'name': 'button.backward', 'offset': 42, 'size': 1}\n",
      "{'name': 'button.left', 'offset': 43, 'size': 1}\n",
      "{'name': 'button.center', 'offset': 44, 'size': 1}\n",
      "{'name': 'button.forward', 'offset': 45, 'size': 1}\n",
      "{'name': 'button.right', 'offset': 46, 'size': 1}\n",
      "{'name': 'buttons._mean', 'offset': 47, 'size': 5}\n",
      "{'name': 'buttons._noise', 'offset': 52, 'size': 5}\n",
      "{'name': 'prox.horizontal', 'offset': 57, 'size': 7}\n",
      "{'name': 'prox.comm.rx._payloads', 'offset': 64, 'size': 7}\n",
      "{'name': 'prox.comm.rx._intensities', 'offset': 71, 'size': 7}\n",
      "{'name': 'prox.comm.rx', 'offset': 78, 'size': 1}\n",
      "{'name': 'prox.comm.tx', 'offset': 79, 'size': 1}\n",
      "{'name': 'prox.ground.ambiant', 'offset': 80, 'size': 2}\n",
      "{'name': 'prox.ground.reflected', 'offset': 82, 'size': 2}\n",
      "{'name': 'prox.ground.delta', 'offset': 84, 'size': 2}\n",
      "{'name': 'motor.left.target', 'offset': 86, 'size': 1}\n",
      "{'name': 'motor.right.target', 'offset': 87, 'size': 1}\n",
      "{'name': '_vbat', 'offset': 88, 'size': 2}\n",
      "{'name': '_imot', 'offset': 90, 'size': 2}\n",
      "{'name': 'motor.left.speed', 'offset': 92, 'size': 1}\n",
      "{'name': 'motor.right.speed', 'offset': 93, 'size': 1}\n",
      "{'name': 'motor.left.pwm', 'offset': 94, 'size': 1}\n",
      "{'name': 'motor.right.pwm', 'offset': 95, 'size': 1}\n",
      "{'name': '_integrator', 'offset': 96, 'size': 2}\n",
      "{'name': 'acc', 'offset': 98, 'size': 3}\n",
      "{'name': 'leds.top', 'offset': 101, 'size': 3}\n",
      "{'name': 'leds.bottom.left', 'offset': 104, 'size': 3}\n",
      "{'name': 'leds.bottom.right', 'offset': 107, 'size': 3}\n",
      "{'name': 'leds.circle', 'offset': 110, 'size': 8}\n",
      "{'name': 'temperature', 'offset': 118, 'size': 1}\n",
      "{'name': 'rc5.address', 'offset': 119, 'size': 1}\n",
      "{'name': 'rc5.command', 'offset': 120, 'size': 1}\n",
      "{'name': 'mic.intensity', 'offset': 121, 'size': 1}\n",
      "{'name': 'mic.threshold', 'offset': 122, 'size': 1}\n",
      "{'name': 'mic._mean', 'offset': 123, 'size': 1}\n",
      "{'name': 'timer.period', 'offset': 124, 'size': 2}\n",
      "{'name': 'acc._tap', 'offset': 126, 'size': 1}\n",
      "{'name': 'sd.present', 'offset': 127, 'size': 1}\n",
      "motors' speed:  [0, 0]\n"
     ]
    }
   ],
   "source": [
    "\n",
    "import os\n",
    "import sys\n",
    "import time\n",
    "import serial\n",
    "import math\n",
    "import numpy as np\n",
    "from tqdm import tqdm\n",
    "from statistics import mean\n",
    "import pandas as pd\n",
    "from scipy.interpolate import interp1d\n",
    "from local_occupancy import sensor_measurements, sensor_distances\n",
    "from local_occupancy import thymio_coords, sensor_pos_from_center, sensor_angles\n",
    "%matplotlib inline\n",
    "\n",
    "sys.path.insert(0, os.path.join(os.getcwd(), 'src'))\n",
    "\n",
    "from Thymio import Thymio\n",
    "\n",
    "test_functions = False\n",
    "\n",
    "th = Thymio.serial(port=\"COM8\", refreshing_rate=0.1)\n",
    "\n",
    "time.sleep(3) # To make sure the Thymio has had time to connect\n",
    "\n",
    "variables = th.variable_description()\n",
    "\n",
    "for var in variables : \n",
    "    print(var)"
   ]
  },
  {
   "cell_type": "code",
   "execution_count": 11,
   "metadata": {},
   "outputs": [
    {
     "name": "stdout",
     "output_type": "stream",
     "text": [
      "motors' speed:  [0, 0]\n",
      "motors' speed:  [-5, -2]\n",
      "motors' speed:  [-7, 0]\n",
      "motors' speed:  [0, 0]\n"
     ]
    }
   ],
   "source": [
    "from threading import Timer\n",
    "\n",
    "class RepeatedTimer(object):\n",
    "    def __init__(self, interval, function, *args, **kwargs):\n",
    "        self._timer     = None\n",
    "        self.interval   = interval\n",
    "        self.function   = function\n",
    "        self.args       = args\n",
    "        self.kwargs     = kwargs\n",
    "        self.is_running = False\n",
    "        self.start()\n",
    "\n",
    "    def _run(self):\n",
    "        self.is_running = False\n",
    "        self.start()\n",
    "        self.function(*self.args, **self.kwargs)\n",
    "\n",
    "    def start(self):\n",
    "        if not self.is_running:\n",
    "            self._timer = Timer(self.interval, self._run)\n",
    "            self._timer.start()\n",
    "            self.is_running = True\n",
    "\n",
    "    def stop(self):\n",
    "        self._timer.cancel()\n",
    "        self.is_running = False\n"
   ]
  },
  {
   "cell_type": "code",
   "execution_count": 12,
   "metadata": {},
   "outputs": [
    {
     "name": "stdout",
     "output_type": "stream",
     "text": [
      "motors' speed:  [-1, 0]\n",
      "motors' speed:  [-3, 0]\n",
      "motors' speed:  [-3, 0]\n",
      "motors' speed:  [-3, 0]\n",
      "motors' speed:  [0, 0]\n"
     ]
    }
   ],
   "source": [
    "from time import sleep\n",
    "Ts=1\n",
    "value_proximity=0\n",
    "value_acceleration=0\n",
    "value_speed=0"
   ]
  },
  {
   "cell_type": "code",
   "execution_count": 18,
   "metadata": {},
   "outputs": [
    {
     "name": "stdout",
     "output_type": "stream",
     "text": [
      "motors' speed:  [-4, 0]\n",
      "motors' speed:  [-5, 0]\n"
     ]
    }
   ],
   "source": [
    "def print_sensor_values():\n",
    "    global value_proximity\n",
    "    global value_acceleration\n",
    "    global value_speed\n",
    "    value_proximity=th['prox.horizontal']\n",
    "    value_acceleration=th['acc']\n",
    "    value_speed=[th['motor.left.speed'],th['motor.right.speed']]\n",
    "    for i in range(2):\n",
    "        if value_speed[i]>600:\n",
    "            value_speed[i]=value_speed[i]-2**16\n",
    "    for i in range(3):\n",
    "        if value_acceleration[i]>600:\n",
    "            value_acceleration[i]=value_acceleration[i]-2**16\n",
    "    \n",
    "    \n",
    "    \n",
    "    #print(\"proximity: \",value_proximity)\n",
    "    print(\"accelaration: \",value_acceleration)\n",
    "    #print(\"motors' speed: \",value_speed)\n",
    "\n",
    "\n",
    "#print_sensor_values('prox.horizontal')"
   ]
  },
  {
   "cell_type": "code",
   "execution_count": 19,
   "metadata": {},
   "outputs": [
    {
     "name": "stdout",
     "output_type": "stream",
     "text": [
      "motors' speed:  [0, 0]\n",
      "motors' speed:  [-3, 0]\n"
     ]
    }
   ],
   "source": [
    "rt = RepeatedTimer(Ts, print_sensor_values)\n",
    "\n",
    "\n",
    "#sensor_vals=print_sensor_values(\"prox.horizontal\")\n",
    "#print(sensor_vals)"
   ]
  },
  {
   "cell_type": "code",
   "execution_count": 20,
   "metadata": {},
   "outputs": [
    {
     "name": "stdout",
     "output_type": "stream",
     "text": [
      "accelaration:  [0, 0, 21]\n",
      "motors' speed:  [0, 0]\n",
      "motors' speed:  [0, 0]\n"
     ]
    }
   ],
   "source": [
    "def move(l_speed=500, r_speed=500, verbose=False):\n",
    "    \"\"\"\n",
    "    Sets the motor speeds of the Thymio \n",
    "    param l_speed: left motor speed\n",
    "    param r_speed: right motor speed\n",
    "    param verbose: whether to print status messages or not\n",
    "    \"\"\"\n",
    "    # Printing the speeds if requested\n",
    "    if verbose: print(\"\\t\\t Setting speed : \", l_speed, r_speed)\n",
    "    \n",
    "    # Changing negative values to the expected ones with the bitwise complement\n",
    "    l_speed = l_speed if l_speed>=0 else 2**16+l_speed\n",
    "    r_speed = r_speed if r_speed>=0 else 2**16+r_speed\n",
    "\n",
    "    # Setting the motor speeds\n",
    "    th.set_var(\"motor.left.target\", l_speed)\n",
    "    th.set_var(\"motor.right.target\", r_speed)"
   ]
  },
  {
   "cell_type": "code",
   "execution_count": 21,
   "metadata": {
    "scrolled": false
   },
   "outputs": [
    {
     "name": "stdout",
     "output_type": "stream",
     "text": [
      "\t\t Setting speed :  -100 100\n",
      "accelaration:  [0, 0, 20]\n",
      "motors' speed:  [-78, 85]\n",
      "motors' speed:  [-81, 97]\n",
      "accelaration:  [0, 0, 21]\n",
      "motors' speed:  [-107, 98]\n",
      "motors' speed:  [-101, 103]\n",
      "accelaration:  [0, 0, 20]\n",
      "motors' speed:  [-99, 99]\n",
      "motors' speed:  [-101, 101]\n",
      "accelaration:  [0, 0, 22]\n",
      "motors' speed:  [-98, 100]\n",
      "motors' speed:  [-100, 102]\n",
      "accelaration:  [0, 0, 21]\n",
      "motors' speed:  [-93, 102]\n",
      "motors' speed:  [-98, 105]\n",
      "accelaration:  [0, -3, 27]\n",
      "motors' speed:  [-114, 98]\n",
      "motors' speed:  [-113, 88]\n",
      "accelaration:  [15, -5, 6]\n",
      "motors' speed:  [-94, 102]\n",
      "motors' speed:  [-97, 94]\n",
      "accelaration:  [0, -3, 21]\n",
      "motors' speed:  [-99, 103]\n",
      "motors' speed:  [-102, 99]\n",
      "accelaration:  [2, -3, 21]\n",
      "motors' speed:  [-97, 102]\n",
      "motors' speed:  [-110, 101]\n",
      "accelaration:  [1, -3, 19]\n",
      "motors' speed:  [-100, 102]\n",
      "motors' speed:  [-101, 93]\n",
      "accelaration:  [0, -3, 21]\n",
      "motors' speed:  [-99, 102]\n",
      "motors' speed:  [-104, 103]\n",
      "accelaration:  [0, -3, 21]\n",
      "motors' speed:  [-94, 100]\n",
      "motors' speed:  [-94, 99]\n"
     ]
    }
   ],
   "source": [
    "move(-100,100,True)"
   ]
  },
  {
   "cell_type": "code",
   "execution_count": 22,
   "metadata": {},
   "outputs": [
    {
     "name": "stdout",
     "output_type": "stream",
     "text": [
      "\t\t Setting speed :  0 0\n",
      "accelaration:  [0, -3, 21]\n",
      "motors' speed:  [-5, 0]\n",
      "motors' speed:  [-2, 0]\n",
      "accelaration:  [-4, -5, 12]\n",
      "motors' speed:  [-4, 0]\n",
      "motors' speed:  [0, 0]\n",
      "accelaration:  [-1, 0, 21]\n",
      "motors' speed:  [0, 0]\n",
      "motors' speed:  [0, 0]\n",
      "accelaration:  [9, 7, 24]\n",
      "motors' speed:  [0, 0]\n",
      "motors' speed:  [-8, 0]\n",
      "accelaration:  [0, 4, 21]\n",
      "motors' speed:  [-4, 0]\n",
      "motors' speed:  [-8, 0]\n",
      "accelaration:  [-6, -3, 14]\n",
      "motors' speed:  [-3, 0]\n",
      "motors' speed:  [-2, 0]\n",
      "accelaration:  [13, 11, 27]\n",
      "motors' speed:  [-7, 0]\n",
      "motors' speed:  [-4, 0]\n",
      "accelaration:  [4, 2, 9]\n",
      "motors' speed:  [-3, 0]\n",
      "motors' speed:  [0, 0]\n",
      "accelaration:  [-2, -1, 24]\n",
      "motors' speed:  [-3, 0]\n",
      "motors' speed:  [-4, 0]\n",
      "accelaration:  [18, 9, 14]\n",
      "motors' speed:  [-3, 0]\n",
      "motors' speed:  [-4, 0]\n",
      "accelaration:  [-2, -7, -2]\n",
      "motors' speed:  [-6, 0]\n",
      "motors' speed:  [-9, 0]\n",
      "accelaration:  [-5, -1, 20]\n",
      "motors' speed:  [-5, 0]\n",
      "motors' speed:  [-3, 0]\n",
      "accelaration:  [0, 0, 11]\n",
      "motors' speed:  [-5, 0]\n",
      "motors' speed:  [-1, 0]\n",
      "accelaration:  [0, -7, 3]\n",
      "motors' speed:  [-3, 0]\n",
      "motors' speed:  [-3, 0]\n",
      "accelaration:  [-2, 3, 19]\n",
      "motors' speed:  [-2, 0]\n",
      "motors' speed:  [-2, 0]\n",
      "accelaration:  [0, 2, 20]\n",
      "motors' speed:  [0, 0]\n",
      "motors' speed:  [0, 0]\n",
      "accelaration:  [0, 2, 20]\n",
      "motors' speed:  [0, 0]\n",
      "motors' speed:  [-7, 0]\n",
      "accelaration:  [0, 2, 21]\n",
      "motors' speed:  [-3, 0]\n",
      "motors' speed:  [1, 0]\n",
      "accelaration:  [0, 2, 21]\n",
      "motors' speed:  [0, 0]\n",
      "motors' speed:  [0, 0]\n"
     ]
    }
   ],
   "source": [
    "move(0,0,True)"
   ]
  },
  {
   "cell_type": "code",
   "execution_count": null,
   "metadata": {},
   "outputs": [],
   "source": []
  },
  {
   "cell_type": "code",
   "execution_count": null,
   "metadata": {},
   "outputs": [],
   "source": []
  },
  {
   "cell_type": "code",
   "execution_count": null,
   "metadata": {},
   "outputs": [],
   "source": []
  },
  {
   "cell_type": "code",
   "execution_count": null,
   "metadata": {},
   "outputs": [],
   "source": []
  }
 ],
 "metadata": {
  "kernelspec": {
   "display_name": "Python 3",
   "language": "python",
   "name": "python3"
  },
  "language_info": {
   "codemirror_mode": {
    "name": "ipython",
    "version": 3
   },
   "file_extension": ".py",
   "mimetype": "text/x-python",
   "name": "python",
   "nbconvert_exporter": "python",
   "pygments_lexer": "ipython3",
   "version": "3.8.2"
  }
 },
 "nbformat": 4,
 "nbformat_minor": 4
}
