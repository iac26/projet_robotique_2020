{
 "cells": [
  {
   "cell_type": "markdown",
   "metadata": {},
   "source": [
    "## Global Navigation\n",
    "\n",
    "The goal of this part is to create a trajectory that will allow the Thymio to pass through several interest point and come back to his initial position.\n",
    "\n",
    "The trajectory has to ensure that the Thymio avoid the global obstacles detected by the camera."
   ]
  },
  {
   "cell_type": "markdown",
   "metadata": {},
   "source": [
    "### Pass planning : Process flow\n",
    "\n",
    "The creation of our trajectory is composed of the following steps :\n",
    "\n",
    "- Dilatation of the obstacles to avoid collisions.\n",
    "\n",
    "- Visibility graph computation by using the previously dilated obstacles.\n",
    "\n",
    "- Pass planning computation by using the visibility graph and the interest point positions."
   ]
  },
  {
   "cell_type": "markdown",
   "metadata": {},
   "source": [
    "#### Obstacle dilatation\n",
    "\n",
    "To perform the obstacle dilatation, we have implemented two different algorithms in parallel with the aim of taking the one that will provide the best results.\n",
    "\n",
    "The first algorithm that we used is based on the dilatation function provided in the OpenCV library :\n",
    "\n",
    "- Find the contours of the global obstacles.\n",
    "\n",
    "- Create a grayscale image with the global obstacles in white and the rest in black.\n",
    "\n",
    "- Dilate the global obstacles in this image.\n",
    "\n",
    "- Find the new dilated contours.\n",
    "\n",
    "For more details on the OpenCV dilatation function, see [Morphological transformations in OpenCV](https://opencv-python-tutroals.readthedocs.io/en/latest/py_tutorials/py_imgproc/py_morphological_ops/py_morphological_ops.html)."
   ]
  },
  {
   "cell_type": "code",
   "execution_count": 23,
   "metadata": {},
   "outputs": [],
   "source": [
    "import cv2\n",
    "import sys\n",
    "import numpy as np\n",
    "\n",
    "sys.path.append(\"../vision\")\n",
    "\n",
    "from vision import *"
   ]
  },
  {
   "cell_type": "code",
   "execution_count": 40,
   "metadata": {},
   "outputs": [],
   "source": [
    "#RED_LOW  = [150, 100, 100]\n",
    "#RED_HIGH = [179, 255, 255]\n",
    "\n",
    "#DIL_COEFF_K = 15\n",
    "\n",
    "\n",
    "def detect_obstacles(frame, scale=1):\n",
    "    \n",
    "    # Find the contours of the global obstacles\n",
    "    frame = frame.copy()\n",
    "    red_low = np.array(RED_LOW, np.uint8)\n",
    "    red_high = np.array(RED_HIGH, np.uint8)\n",
    "    \n",
    "    clean_contours = find_color(frame, red_low, red_high)\n",
    "    \n",
    "    \n",
    "    # Some operations used for plotting purposes and scalling of the image in real dimmensions\n",
    "    cv2.drawContours(frame, clean_contours, -1, (0,255,0), 3)\n",
    "            \n",
    "    original_contours = []\n",
    "    for cnt in clean_contours:\n",
    "        ocnt = []\n",
    "        for pt in cnt:\n",
    "            ocnt.append(pt[0])\n",
    "        original_contours.append(np.multiply(ocnt, scale).astype(int))\n",
    "        \n",
    "        \n",
    "    # Create a grayscale image with the global obstacles in white and the rest in black\n",
    "    black = np.zeros(frame.shape[:2], dtype=np.uint8)\n",
    "    \n",
    "    for i in range(len(clean_contours)):\n",
    "        cv2.drawContours(black, clean_contours, i, (255), -1)\n",
    "\n",
    "    plt.figure()\n",
    "    plt.imshow(black, cmap=\"gray\")\n",
    "    \n",
    "    \n",
    "    # Dilate the global obstacles in this image\n",
    "    kernel = np.ones((DIL_COEFF_K,DIL_COEFF_K),np.uint8)\n",
    "    black = cv2.dilate(black, kernel, iterations = 15)\n",
    "\n",
    "    plt.figure()\n",
    "    plt.imshow(black, cmap=\"gray\")\n",
    "    \n",
    "    \n",
    "    # Find the new dilated contours\n",
    "    contours, hierarchy = cv2.findContours(black, cv2.RETR_EXTERNAL  , cv2.CHAIN_APPROX_SIMPLE)\n",
    "    \n",
    "    clean_dil_contours = cleanup_contours(contours, 1)\n",
    "\n",
    "    \n",
    "    # Some operations used for plotting purposes and scalling of the image in real dimmensions\n",
    "    scaled_contours = []\n",
    "    for cnt in clean_dil_contours:\n",
    "        ncnt = []\n",
    "        for pt in cnt:\n",
    "            frame = cv2.circle(frame, (pt[0][0], pt[0][1]), radius=5, color=(0, 0, 255), thickness=-1)\n",
    "            ncnt.append(pt[0])\n",
    "\n",
    "        scaled_contours.append(np.multiply(ncnt, scale).astype(int))\n",
    "    \n",
    "    \n",
    "    return scaled_contours, original_contours, frame"
   ]
  },
  {
   "cell_type": "markdown",
   "metadata": {},
   "source": [
    "To see the result of our algorithm, we will use the following function (note that this function will be also used to plot other results computed in the global Navigation part) :"
   ]
  },
  {
   "cell_type": "code",
   "execution_count": 41,
   "metadata": {},
   "outputs": [],
   "source": [
    "import matplotlib.pyplot as plt"
   ]
  },
  {
   "cell_type": "code",
   "execution_count": 42,
   "metadata": {},
   "outputs": [],
   "source": [
    "X = 0\n",
    "Y = 1\n",
    "\n",
    "def printGlobalNavigation(contours, contoursMapped, possibleDisplacement = {}, interestPoints = [], trajectory = []):\n",
    "    \"\"\"Plot the original contours and the dilated contours using matplotlib\n",
    "       Plot the visibility graph if possibleDisplacement is given \n",
    "       Plot the Thymio's point of interest if interestPoints is given\n",
    "       Plot the Thymio's path if the trajectory is given\n",
    "\n",
    "    Parameters\n",
    "    ----------\n",
    "    contours : list of list of list\n",
    "        The camera detect several obstacles\n",
    "        Each obstacle has several extremities\n",
    "        Each extremity has (x, y) coordinates\n",
    "\n",
    "    contoursMapped : list of list of list\n",
    "        Same structure as contours, each extremity's coordinate has been dilated\n",
    "\n",
    "    possibleDispacement : dictionary\n",
    "        Each extremity point has several visible points, i.e possible destinations for the Thymio\n",
    "\n",
    "    interestPoints : list of list\n",
    "        Each point of interest has (x, y) coordinates, i.e locations where the thymio need to go\n",
    "\n",
    "    trajectory : list of list\n",
    "        Each point of the trajectory has (x, y) coordinates\n",
    "\n",
    "    Returns\n",
    "    -------\n",
    "\n",
    "    \"\"\"\n",
    "\n",
    "    xOriginal = []\n",
    "    yOriginal = []\n",
    "    xDilated = []\n",
    "    yDilated = []\n",
    "\n",
    "    for obstacleOriginal in contours:\n",
    "        for extremityOriginal in obstacleOriginal:\n",
    "            xOriginal.append(extremityOriginal[X])\n",
    "            yOriginal.append(extremityOriginal[Y])\n",
    "\n",
    "        xOriginal.append(obstacleOriginal[0][X])\n",
    "        yOriginal.append(obstacleOriginal[0][Y])\n",
    "\n",
    "        plt.plot(xOriginal, yOriginal, 'b')\n",
    "\n",
    "        xOriginal.clear()\n",
    "        yOriginal.clear()\n",
    "\n",
    "    \n",
    "    for obstacleDilated in contoursMapped:\n",
    "        for extremityDilated in obstacleDilated:\n",
    "            xDilated.append(extremityDilated[X])\n",
    "            yDilated.append(extremityDilated[Y])\n",
    "\n",
    "        xDilated.append(obstacleDilated[0][X])\n",
    "        yDilated.append(obstacleDilated[0][Y])\n",
    "\n",
    "        plt.plot(xDilated, yDilated, 'm')\n",
    "\n",
    "        xDilated.clear()\n",
    "        yDilated.clear()\n",
    "\n",
    "\n",
    "    if possibleDisplacement:\n",
    "        for extremity in possibleDisplacement:\n",
    "            for visiblePoint in possibleDisplacement[extremity]:\n",
    "                plt.plot([extremity[X], visiblePoint[X]], [extremity[Y], visiblePoint[Y]], 'm')\n",
    "\n",
    "    \n",
    "    if interestPoints:\n",
    "        for point in interestPoints:\n",
    "            plt.plot([point[X]], [point[Y]], 'kx', markersize=12)\n",
    "\n",
    "\n",
    "    if trajectory:\n",
    "        for i in range (1, len(trajectory)):\n",
    "            plt.arrow(trajectory[i-1][X], trajectory[i-1][Y], trajectory[i][X] - trajectory[i-1][X], trajectory[i][Y] - trajectory[i-1][Y], head_width=8, length_includes_head=True, color  = 'k', width = 2)\n",
    "\n",
    "    plt.show()"
   ]
  },
  {
   "cell_type": "code",
   "execution_count": 43,
   "metadata": {},
   "outputs": [
    {
     "data": {
      "image/png": "[encoded data removed]",
      "text/plain": [
       "<Figure size 432x288 with 1 Axes>"
      ]
     },
     "metadata": {
      "needs_background": "light"
     },
     "output_type": "display_data"
    },
    {
     "data": {
      "image/png": "[encoded data removed]",
      "text/plain": [
       "<Figure size 432x288 with 1 Axes>"
      ]
     },
     "metadata": {
      "needs_background": "light"
     },
     "output_type": "display_data"
    },
    {
     "data": {
      "image/png": "[encoded data removed]",
      "text/plain": [
       "<Figure size 432x288 with 1 Axes>"
      ]
     },
     "metadata": {
      "needs_background": "light"
     },
     "output_type": "display_data"
    }
   ],
   "source": [
    "frame = cv2.imread(\"../vision/images/colors.png\")\n",
    "\n",
    "# Dilate obstacles and print them\n",
    "scaled_contours, original_contours, ret = detect_obstacles(frame)\n",
    "\n",
    "plt.figure()\n",
    "plt.gca().invert_yaxis()\n",
    "printGlobalNavigation(original_contours, scaled_contours)"
   ]
  },
  {
   "cell_type": "markdown",
   "metadata": {},
   "source": [
    "ICI MONTRER L'AUTRE METHODE"
   ]
  },
  {
   "cell_type": "markdown",
   "metadata": {},
   "source": [
    "#### Visibility graph computation\n",
    "\n",
    "##### Naive algorithm\n",
    "\n",
    "Reference : [Naive visibility graph algorithm](https://taipanrex.github.io/2016/09/17/Distance-Tables-Part-1-Defining-the-Problem.html)\n",
    "\n",
    "Computational Geometry defines visibility graphs in the following way: Given a set $S$ of disjoint polygonal obstacles, we denote the visibility graph $G_{vis}(S)$. It’s nodes are the vertices of $S$ and there is an arc between vertices $v$ and $w$ if they can see each other, that is, if the segment $\\overline{vw}$ does not intersect the interior of any obstacle in $S$.\n",
    "\n",
    "Here is the algorithm :"
   ]
  },
  {
   "cell_type": "raw",
   "metadata": {},
   "source": [
    "G <-- all vertices of S\n",
    "VG <-- empty visibility graph\n",
    "for each vertex v in G                                            #O(n)\n",
    "    for each vertex w in {G - v}                                  #O(n)\n",
    "        for each edge e in S                                      #O(e)\n",
    "            if the arc from v to w does not intersect any edge e then\n",
    "            vertex v and w are visible to each other\n",
    "                VG <-- edge v to w"
   ]
  },
  {
   "cell_type": "markdown",
   "metadata": {},
   "source": [
    "To build the visibility graph naïvely, we add all the vertices from our set of obstacles to visibility graph G. For each vertex v in G, we check it against all the other vertices in G to see which vertices are visible to v. To check if a vertex w is visible, we need to check if the arc/edge from v to w intersects with any of the edges of the obstacles. If it doesn’t intersect any edges, v is visible to w and vice versa. There is no obstacle blocking the view between v and w and it can be used as part of a path."
   ]
  },
  {
   "cell_type": "markdown",
   "metadata": {},
   "source": [
    "The issue with the naïve algorithm is that it’s time complexity is $O(n^3)$. A better algorithm is the D.T.Lee's visibility graph algorithm which runs in $O(n^2log_2n)$."
   ]
  },
  {
   "cell_type": "markdown",
   "metadata": {},
   "source": [
    "###### Lee's visibility graph algorithm\n",
    "\n",
    "Reference : [Lee's visibility graph algorithm](https://taipanrex.github.io/2016/10/19/Distance-Tables-Part-2-Lees-Visibility-Graph-Algorithm.html)\n",
    "\n",
    "We are still going to need the first two for loops as in the naïve solution detailed in the previous part. Lee’s approach saves us running time by reducing the number of edges we need to check for each pair of points. That part of Lee’s algorithm runs in $O(log_2n)$ time, leaving a total running time of $O(n^2log_2n)$."
   ]
  },
  {
   "cell_type": "raw",
   "metadata": {},
   "source": [
    "visibility_graph(S <-- disjoint polygonal obstacles)\n",
    "    G <-- all vertices of S\n",
    "    VG -> empty visibility graph\n",
    "    for each vertex v in G                                        #O(n)\n",
    "        do VG <-- visible_vertices(v,S)                           #O(n log n)\n",
    "    return VG"
   ]
  },
  {
   "cell_type": "markdown",
   "metadata": {},
   "source": [
    "Before we look at the visible_vertices function, a key concept to understand in Lee’s algorithm is the scan line.\n",
    "\n",
    "![](lee_figure1.png)\n",
    "\n",
    "Let’s say we are checking which points are visible from point $s$. To do this we need to visit each of the points $a$ through $f$. The way we are going to visit the points is in a counter clockwise circle. We are going to use Lee’s scan line for this, which is a half-line. Conceptually the scan line has its origin at point $s$, pointing to the right (parallel to the x-axis) and moves counter clock wise until it hits a point to check for visibility.\n",
    "\n",
    "Together with the scan line we are going to keep a ordered list of edges that we will need to use when we visit each point. we call this the $open\\_edges$ list. This list will be used to check for point visibility.\n",
    "\n",
    "Once the scan line hits a point, the algorithm is going to work some magic on the edges incident on the point. Take figure 1: the first point the scan line will hit is point $a$, which has two edges (edge $ab$ and edge $ac$). what we do is check if each edge is on the “counter clock wise” side of the scan line. I.e., when the scan line continues moving, will it intersect any of those edges? In the case of point $a$, both edges are on the CCW side and will be added the $open\\_edges$ list I mentioned we are tracking.\n",
    "\n",
    "Lets continue the scan line to point $b$ (figure 2). Now, edge $ab$ is on the clock wise side of the scan line and it will never be intersected by the scan line again. This means we are free to completely ignore that edge for all unvisited points and we can remove it from the tracking $open\\_edges$ list. Edge $ac$ is still partially on the CCW side and as the scan line continues to move, it will continue to intersect edge $ac$, so it stays in the list. edge $bc$ should now be added to $open\\_edges$ as it is on the CCW side and will be intersected by the scan line. So for each point the scan line visits, we check the edges incident at that point. If the edge is on the CCW side, we add it to $open\\_edges$. If the edge is on the CW side, we remove it from $open\\_edges$.\n",
    "\n",
    "Lets now discuss visibility, using figure 1 and 2. When the scan line visits point $a$, it will check the $open\\_edges$ list to see if there are any edges that could possibly block visibility. At point $a$ there are none so $a$ is visible. Moving to point $b$, $open\\_edges$ contains edge $ac$ and the line from point $s$ to point $b$ intersects edge $ac$. Point $b$ is therefore not visible.\n",
    "\n",
    "As illustrated, what the scan line allows us to do is ignore edges that are no longer an issue, i.e. edges that can no longer block visibility of the next points to visit. When the scan line moves on to point $c$, $d$, $e$ and $f$, it will never have to consider the edges that it has already passed, like edge $ab$. The naïve algorithm would have to check all edges, Lee’s algorithm only checks relevant edges.\n",
    "\n",
    "As a matter of fact, we only need to check the closest $open\\_edges$ edge. Take figure 3 below: when the scan line visits point $x$, $open\\_edges$ will contain all the left and right edges of the three triangles. We don’t need to loop through $open\\_edges$ and check if we intersect an edge, we only need to check the edge with the closest intersect point from $s$ (i.e. the left most edge in this case).\n",
    "\n",
    "![](lee_figure3.png)\n",
    "\n",
    "To achieve this, we need to keep $open\\_edges$ ordered by the intersect distance on the scan line from $s$. We achieve this using a binary search tree, which allows us to look up the closest open edge in $O(log_2n)$ time."
   ]
  },
  {
   "cell_type": "raw",
   "metadata": {},
   "source": [
    "visible_vertices(v, S):\n",
    "    1. sort the vertices of the obstacle polygons according to the\n",
    "    counter clock wise angle the half line from v to each vertex makes\n",
    "    with the x-axis. In the case of ties, vertices closer to v should\n",
    "    come first. Let w_i, ..., w_n be this list.\n",
    "    2. let s be the scan line (half line) starting at v, parallel with\n",
    "    the x-axis, extending to positive infinity. Check all edges of\n",
    "    S for intersection with s and store intersected edges in a binary\n",
    "    search tree T.\n",
    "    3. W <-- empty list of visible vertices\n",
    "    4. for i <-- 1 to n vertices\n",
    "    5.     do if visible(w_i) then add w_i to W\n",
    "    6.     Insert into T the edges incident to w_i that lie on the counter\n",
    "           clock wise side of scan line s.\n",
    "    7.     Delete from T the edges incident to w_i that lie on the clock\n",
    "           wise side of scan line s.\n",
    "    8. Return W"
   ]
  },
  {
   "cell_type": "markdown",
   "metadata": {},
   "source": [
    "In step 1, we order all the points we are going to visit in the order the scan line will hit the points, moving in a counter clock wise direction.\n",
    "\n",
    "In step 2, we initialize $open\\_edges$. It is important to do this before we start visiting all the points; figure 3 illustrates the reason for this. In figure 3, the first point the scan line hits is $x$. If we do not perform step 2, $open\\_edges$ will be empty and we would think that $x$ is visible. So in the initialization step, we need to check all obstacle edges and store the edges that intersect the horizontal scan line. This step takes $O(nlog_2n)$\n",
    "(checking n edges, where inserting into the binary search tree costs $O(log_2n)$).\n",
    "\n",
    "In steps 4 to 7, we visit each of the obstacle points and check for visibility. We also perform the edge magic explained above, keeping our $open\\_edges$ updated."
   ]
  },
  {
   "cell_type": "raw",
   "metadata": {},
   "source": [
    "visible(w_i):\n",
    "    1. If T is empty then return True\n",
    "    2. else if the edge from v to w_i does not intersect the smallest\n",
    "       (left-most) edge in T then return True\n",
    "    3. else return False"
   ]
  },
  {
   "cell_type": "markdown",
   "metadata": {},
   "source": [
    "In step 1, if there are no edges in $open\\_edges$, then $w\\_i$ is visible. In step 2, $open\\_edges$ is not empty, so we need to check the “smallest” or edge that has the shortest distance to the intersection point with $v$ to $w\\_i$. In a binary search tree, that will be the left-most node. If $v$ to $w\\_i$ intersects this line, then $w\\_i$ is not visible."
   ]
  },
  {
   "cell_type": "markdown",
   "metadata": {},
   "source": [
    "In order to compute the visibility graph, we use the open source package named Pyvisgraph."
   ]
  },
  {
   "cell_type": "code",
   "execution_count": null,
   "metadata": {},
   "outputs": [],
   "source": [
    "SURLIGNER PASSAGE IMPORTANT OU GRAS"
   ]
  }
 ],
 "metadata": {
  "kernelspec": {
   "display_name": "Python 3",
   "language": "python",
   "name": "python3"
  },
  "language_info": {
   "codemirror_mode": {
    "name": "ipython",
    "version": 3
   },
   "file_extension": ".py",
   "mimetype": "text/x-python",
   "name": "python",
   "nbconvert_exporter": "python",
   "pygments_lexer": "ipython3",
   "version": "3.8.6"
  }
 },
 "nbformat": 4,
 "nbformat_minor": 4
}
