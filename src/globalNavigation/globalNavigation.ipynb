{
 "cells": [
  {
   "cell_type": "markdown",
   "metadata": {},
   "source": [
    "# Global Navigation\n",
    "\n",
    "The goal of this part is to create a trajectory that will allow the Thymio to pass through several interest point and come back to his initial position.\n",
    "\n",
    "The trajectory has to ensure that the Thymio avoid the global obstacles detected by the camera."
   ]
  },
  {
   "cell_type": "markdown",
   "metadata": {},
   "source": [
    "## Pass planning : Process flow\n",
    "\n",
    "The creation of our trajectory is composed of the following steps :\n",
    "\n",
    "- Dilatation of the obstacles to avoid collisions.\n",
    "\n",
    "- Visibility graph computation by using the previously dilated obstacles.\n",
    "\n",
    "- Pass planning computation by using the visibility graph and the interest point positions."
   ]
  },
  {
   "cell_type": "markdown",
   "metadata": {},
   "source": [
    "### Obstacle dilatation\n",
    "\n",
    "The first algorithm that we used to dilate the obstacle was composed of the following steps :\n",
    "\n",
    "- Compute the centroid of each obstacles.\n",
    "\n",
    "- For each obstacle, map the original contour points to new coordinates where (0, 0) is the centroid.\n",
    "\n",
    "- Scale the position in this new reference frame.\n",
    "\n",
    "- Map it back to previous coordinates by adding back position of centroids."
   ]
  },
  {
   "cell_type": "markdown",
   "metadata": {},
   "source": [
    "To compute the centroid of our obstacles, we use the moment functionality provided in the OpenCV library. In particular, we will use the following relations :\n",
    "\n",
    "$$M_{ij} = \\sum_{x}\\sum_{y} x^iy^jI(x, y)$$ \n",
    "\n",
    "$$\\bar x = \\frac{M_{10}}{M_{00}}$$\n",
    "\n",
    "$$\\bar y = \\frac{M_{01}}{M_{00}}$$\n",
    "\n",
    "\n",
    "For more details, see [Image moments](https://en.wikipedia.org/wiki/Image_moment).\n"
   ]
  },
  {
   "cell_type": "code",
   "execution_count": 1,
   "metadata": {},
   "outputs": [],
   "source": [
    "import cv2"
   ]
  },
  {
   "cell_type": "code",
   "execution_count": 1,
   "metadata": {},
   "outputs": [],
   "source": [
    "def computeCentroid(contours):\n",
    "    \"\"\"Given the contours of a set of polygons, compute their respective centroids\n",
    "\n",
    "    Parameters\n",
    "    ----------\n",
    "    contours : list of list of list\n",
    "        The camera detect several obstacles/interest points\n",
    "        Each has several extremities\n",
    "        Each extremity has (x, y) coordinates\n",
    "\n",
    "    Returns\n",
    "    -------\n",
    "    centroids : list of list\n",
    "        Each polygon has a centroid composed of (x, y) coordinates\n",
    "    \"\"\"\n",
    "\n",
    "    centroids = []\n",
    "    for obstacle in contours:\n",
    "        M = cv2.moments(obstacle)\n",
    "        cx = int(M['m10']/M['m00'])\n",
    "        cy = int(M['m01']/M['m00'])\n",
    "        centroids.append([cx, cy])\n",
    "\n",
    "    return centroids"
   ]
  },
  {
   "cell_type": "markdown",
   "metadata": {},
   "source": [
    "Knowing how to compute centroids, we can now follow our previous algorithm to dilate obstacles :"
   ]
  },
  {
   "cell_type": "code",
   "execution_count": 3,
   "metadata": {},
   "outputs": [],
   "source": [
    "# Define\n",
    "X = 0\n",
    "Y = 1"
   ]
  },
  {
   "cell_type": "code",
   "execution_count": 5,
   "metadata": {},
   "outputs": [],
   "source": [
    "def dilateObstacles(contours, scalingFactor):\n",
    "    \"\"\"Given the contours of obstacles and the scaling factor, dilate these contours \n",
    "\n",
    "    Parameters\n",
    "    ----------\n",
    "    contours : list of list of list\n",
    "        The camera detect several obstacles\n",
    "        Each obstacle has several extremities\n",
    "        Each extremity has (x, y) coordinates\n",
    "\n",
    "    scalingFactor : float\n",
    "        Define how much the obstacle's contours should be dilated\n",
    "        scalingFactor = 1.4 -> 40 % of dilatation\n",
    "\n",
    "    Returns\n",
    "    -------\n",
    "    contoursMapped : list of list of list\n",
    "        Same structure as contours, each extremity's coordinate has been dilated\n",
    "    \"\"\"\n",
    "\n",
    "    # Compute centroid of each obstacle\n",
    "    centroids = computeCentroid(contours)\n",
    "\n",
    "    \n",
    "    # For each obstacle, map the original contour points to new coordinates where (0, 0) is the centroid\n",
    "    contoursMapped = [[] for _ in range(len(contours))]\n",
    "\n",
    "    for obstacle, i in zip(contours, range(len(contours))):\n",
    "        for extremity in obstacle:\n",
    "            contoursMapped[i].append([extremity[0][X] - centroids[i][X], extremity[0][Y] - centroids[i][Y]])\n",
    "\n",
    "\n",
    "    # Scale position\n",
    "    for obstacle, i in zip(contoursMapped, range(len(contoursMapped))):\n",
    "        for j in range(len(obstacle)):\n",
    "            contoursMapped[i][j][X] *= scalingFactor\n",
    "            contoursMapped[i][j][Y] *= scalingFactor\n",
    "\n",
    "\n",
    "    # Map it back to previous coordinates by adding back position of centroids\n",
    "    for obstacle, i in zip(contoursMapped, range(len(contoursMapped))):\n",
    "        for j in range(len(obstacle)):\n",
    "            contoursMapped[i][j][X] = int(contoursMapped[i][j][X] + centroids[i][X])\n",
    "            contoursMapped[i][j][Y] = int(contoursMapped[i][j][Y] + centroids[i][Y])\n",
    "    \n",
    "    return contoursMapped "
   ]
  },
  {
   "cell_type": "markdown",
   "metadata": {},
   "source": [
    "To see the result of our algorithm, we will use the following function (note that this function will be also used to plot other results computed in the global Navigation part) :"
   ]
  },
  {
   "cell_type": "code",
   "execution_count": 15,
   "metadata": {},
   "outputs": [],
   "source": [
    "import matplotlib.pyplot as plt"
   ]
  },
  {
   "cell_type": "code",
   "execution_count": 16,
   "metadata": {},
   "outputs": [],
   "source": [
    "def printGlobalNavigation(contours, contoursMapped, possibleDisplacement = {}, interestPoints = [], trajectory = []):\n",
    "    \"\"\"Plot the original contours and the dilated contours using matplotlib\n",
    "       Plot the visibility graph if possibleDisplacement is given \n",
    "       Plot the Thymio's point of interest if interestPoints is given\n",
    "       Plot the Thymio's path if the trajectory is given\n",
    "\n",
    "    Parameters\n",
    "    ----------\n",
    "    contours : list of list of list\n",
    "        The camera detect several obstacles\n",
    "        Each obstacle has several extremities\n",
    "        Each extremity has (x, y) coordinates\n",
    "\n",
    "    contoursMapped : list of list of list\n",
    "        Same structure as contours, each extremity's coordinate has been dilated\n",
    "\n",
    "    possibleDispacement : dictionary\n",
    "        Each extremity point has several visible points, i.e possible destinations for the Thymio\n",
    "\n",
    "    interestPoints : list of list\n",
    "        Each point of interest has (x, y) coordinates, i.e locations where the thymio need to go\n",
    "\n",
    "    trajectory : list of list\n",
    "        Each point of the trajectory has (x, y) coordinates\n",
    "\n",
    "    Returns\n",
    "    -------\n",
    "\n",
    "    \"\"\"\n",
    "\n",
    "    xOriginal = []\n",
    "    yOriginal = []\n",
    "    xDilated = []\n",
    "    yDilated = []\n",
    "\n",
    "    for obstacleOriginal in contours:\n",
    "        for extremityOriginal in obstacleOriginal:\n",
    "            xOriginal.append(extremityOriginal[X])\n",
    "            yOriginal.append(extremityOriginal[Y])\n",
    "\n",
    "        xOriginal.append(obstacleOriginal[0][X])\n",
    "        yOriginal.append(obstacleOriginal[0][Y])\n",
    "\n",
    "        plt.plot(xOriginal, yOriginal, 'b')\n",
    "\n",
    "        xOriginal.clear()\n",
    "        yOriginal.clear()\n",
    "\n",
    "    \n",
    "    for obstacleDilated in contoursMapped:\n",
    "        for extremityDilated in obstacleDilated:\n",
    "            xDilated.append(extremityDilated[X])\n",
    "            yDilated.append(extremityDilated[Y])\n",
    "\n",
    "        xDilated.append(obstacleDilated[0][X])\n",
    "        yDilated.append(obstacleDilated[0][Y])\n",
    "\n",
    "        plt.plot(xDilated, yDilated, 'm')\n",
    "\n",
    "        xDilated.clear()\n",
    "        yDilated.clear()\n",
    "\n",
    "\n",
    "    if possibleDisplacement:\n",
    "        for extremity in possibleDisplacement:\n",
    "            for visiblePoint in possibleDisplacement[extremity]:\n",
    "                plt.plot([extremity[X], visiblePoint[X]], [extremity[Y], visiblePoint[Y]], 'm')\n",
    "\n",
    "    \n",
    "    if interestPoints:\n",
    "        for point in interestPoints:\n",
    "            plt.plot([point[X]], [point[Y]], 'kx', markersize=12)\n",
    "\n",
    "\n",
    "    if trajectory:\n",
    "        for i in range (1, len(trajectory)):\n",
    "            plt.arrow(trajectory[i-1][X], trajectory[i-1][Y], trajectory[i][X] - trajectory[i-1][X], trajectory[i][Y] - trajectory[i-1][Y], head_width=8, length_includes_head=True, color  = 'k', width = 2)\n",
    "\n",
    "    plt.show()"
   ]
  },
  {
   "cell_type": "code",
   "execution_count": 10,
   "metadata": {},
   "outputs": [
    {
     "ename": "IndexError",
     "evalue": "index 1 is out of bounds for axis 0 with size 1",
     "output_type": "error",
     "traceback": [
      "\u001b[1;31m---------------------------------------------------------------------------\u001b[0m",
      "\u001b[1;31mIndexError\u001b[0m                                Traceback (most recent call last)",
      "\u001b[1;32m<ipython-input-10-6725e2f50996>\u001b[0m in \u001b[0;36m<module>\u001b[1;34m\u001b[0m\n\u001b[0;32m     10\u001b[0m \u001b[1;31m# Dilate obstacles and print them\u001b[0m\u001b[1;33m\u001b[0m\u001b[1;33m\u001b[0m\u001b[1;33m\u001b[0m\u001b[0m\n\u001b[0;32m     11\u001b[0m \u001b[0mcontoursMapped\u001b[0m \u001b[1;33m=\u001b[0m \u001b[0mdilateObstacles\u001b[0m\u001b[1;33m(\u001b[0m\u001b[0mcontours\u001b[0m\u001b[1;33m,\u001b[0m \u001b[0mscalingFactor\u001b[0m \u001b[1;33m=\u001b[0m \u001b[1;36m1.4\u001b[0m\u001b[1;33m)\u001b[0m\u001b[1;33m\u001b[0m\u001b[1;33m\u001b[0m\u001b[0m\n\u001b[1;32m---> 12\u001b[1;33m \u001b[0mprintGlobalNavigation\u001b[0m\u001b[1;33m(\u001b[0m\u001b[0mcontours\u001b[0m\u001b[1;33m,\u001b[0m \u001b[0mcontoursMapped\u001b[0m\u001b[1;33m)\u001b[0m\u001b[1;33m\u001b[0m\u001b[1;33m\u001b[0m\u001b[0m\n\u001b[0m",
      "\u001b[1;32m<ipython-input-7-429435feee99>\u001b[0m in \u001b[0;36mprintGlobalNavigation\u001b[1;34m(contours, contoursMapped, possibleDisplacement, interestPoints, trajectory)\u001b[0m\n\u001b[0;32m     37\u001b[0m         \u001b[1;32mfor\u001b[0m \u001b[0mextremityOriginal\u001b[0m \u001b[1;32min\u001b[0m \u001b[0mobstacleOriginal\u001b[0m\u001b[1;33m:\u001b[0m\u001b[1;33m\u001b[0m\u001b[1;33m\u001b[0m\u001b[0m\n\u001b[0;32m     38\u001b[0m             \u001b[0mxOriginal\u001b[0m\u001b[1;33m.\u001b[0m\u001b[0mappend\u001b[0m\u001b[1;33m(\u001b[0m\u001b[0mextremityOriginal\u001b[0m\u001b[1;33m[\u001b[0m\u001b[0mX\u001b[0m\u001b[1;33m]\u001b[0m\u001b[1;33m)\u001b[0m\u001b[1;33m\u001b[0m\u001b[1;33m\u001b[0m\u001b[0m\n\u001b[1;32m---> 39\u001b[1;33m             \u001b[0myOriginal\u001b[0m\u001b[1;33m.\u001b[0m\u001b[0mappend\u001b[0m\u001b[1;33m(\u001b[0m\u001b[0mextremityOriginal\u001b[0m\u001b[1;33m[\u001b[0m\u001b[0mY\u001b[0m\u001b[1;33m]\u001b[0m\u001b[1;33m)\u001b[0m\u001b[1;33m\u001b[0m\u001b[1;33m\u001b[0m\u001b[0m\n\u001b[0m\u001b[0;32m     40\u001b[0m \u001b[1;33m\u001b[0m\u001b[0m\n\u001b[0;32m     41\u001b[0m         \u001b[0mxOriginal\u001b[0m\u001b[1;33m.\u001b[0m\u001b[0mappend\u001b[0m\u001b[1;33m(\u001b[0m\u001b[0mobstacleOriginal\u001b[0m\u001b[1;33m[\u001b[0m\u001b[1;36m0\u001b[0m\u001b[1;33m]\u001b[0m\u001b[1;33m[\u001b[0m\u001b[0mX\u001b[0m\u001b[1;33m]\u001b[0m\u001b[1;33m)\u001b[0m\u001b[1;33m\u001b[0m\u001b[1;33m\u001b[0m\u001b[0m\n",
      "\u001b[1;31mIndexError\u001b[0m: index 1 is out of bounds for axis 0 with size 1"
     ]
    }
   ],
   "source": [
    "import numpy as np\n",
    "\n",
    "# Vision's input : extremities of each obstacles\n",
    "contours = [np.array([[[504, 236]], [[495, 199]], [[380, 212]], [[438, 274]]], dtype=np.int32), \n",
    "            np.array([[[170, 195]], [[254, 275]], [[296, 238]], [[235, 194]]], dtype=np.int32), \n",
    "            np.array([[[302, 168]], [[290, 182]], [[294, 199]], [[312, 209]], [[333, 203]], [[337, 175]]], dtype=np.int32), \n",
    "            np.array([[[228, 151]], [[301, 102]], [[219,  89]]], dtype=np.int32), \n",
    "            np.array([[[481, 130]], [[457,  66]], [[360,  81]], [[434, 150]]], dtype=np.int32)]\n",
    "\n",
    "# Dilate obstacles and print them\n",
    "contoursMapped = dilateObstacles(contours, scalingFactor = 1.4)\n",
    "printGlobalNavigation(contours, contoursMapped)"
   ]
  },
  {
   "cell_type": "code",
   "execution_count": null,
   "metadata": {},
   "outputs": [],
   "source": []
  }
 ],
 "metadata": {
  "kernelspec": {
   "display_name": "Python 3",
   "language": "python",
   "name": "python3"
  },
  "language_info": {
   "codemirror_mode": {
    "name": "ipython",
    "version": 3
   },
   "file_extension": ".py",
   "mimetype": "text/x-python",
   "name": "python",
   "nbconvert_exporter": "python",
   "pygments_lexer": "ipython3",
   "version": "3.8.6"
  }
 },
 "nbformat": 4,
 "nbformat_minor": 4
}
