{
 "cells": [
  {
   "cell_type": "markdown",
   "metadata": {},
   "source": [
    "# 1. import necessary libraries\n",
    "In the module \"local navigation\" of this project, we will need to use several external libraires in order to complete the tache."
   ]
  },
  {
   "cell_type": "code",
   "execution_count": null,
   "metadata": {},
   "outputs": [],
   "source": [
    "import sys\n",
    "import time\n",
    "import cv2\n",
    "import serial\n",
    "import math\n",
    "from threading import Timer\n",
    "import numpy as np\n",
    "import matplotlib.pyplot as plt\n",
    "\n",
    "sys.path.append(\"localNavigation\")\n",
    "from Thymio import Thymio\n",
    "\n",
    "sys.path.append(\"vision\")\n",
    "import vision"
   ]
  },
  {
   "cell_type": "markdown",
   "metadata": {},
   "source": [
    "# 2. define constants\n",
    "We define some constants in order to avoid the uncertainty of robot's behavior. ///// A CORRIGER APRES LE FILTER"
   ]
  },
  {
   "cell_type": "code",
   "execution_count": null,
   "metadata": {},
   "outputs": [],
   "source": [
    "#used for defining the position tolerance while moving forward to a coordinate\n",
    "TOLERENCE_POSITION = 10  \n",
    "### miau?\n",
    "ERROR_TOLERENCE=0.1\n",
    "THRESHOLD_DIST = 2000"
   ]
  },
  {
   "cell_type": "markdown",
   "metadata": {},
   "source": [
    "# 3. define global variables\n",
    "We define equally several several global variables which will be useful for local navigation. These variables will be used by different motor commande functions for several times. The variable group \"error\" is useful for computing PID controller, and the memorised speeds will be useful in case of ANN local avoidance.  "
   ]
  },
  {
   "cell_type": "code",
   "execution_count": null,
   "metadata": {},
   "outputs": [],
   "source": [
    "counter = 0\n",
    "value_proximity=[0,0,0,0,0,0,0]  # stores horizontal proximity measurements \n",
    "value_acceleration=[0,0]         # stores accelerations measurements \n",
    "value_speed=[0,0]                # stores motors' speeds measurements \n",
    "actual_position=[0,0]            # stores actual position  \n",
    "actual_angle=0                   # stores actual angle with x axis \n",
    "actual_goal=[0,0]                # stores next goal position \n",
    "no_detection=False               # stores boolien flag for detection of obstacle.  \n",
    "\n",
    "# These variables will be used for PID controller \n",
    "error_sum=0                      \n",
    "error = 0\n",
    "error_prev=0\n",
    "\n",
    "# These variables will be used for local avoidance (memory)\n",
    "speed_avoidance_l_prev=0\n",
    "speed_avoidance_r_prev=0"
   ]
  },
  {
   "cell_type": "markdown",
   "metadata": {},
   "source": [
    "#  4. Definition of fondamental functions:\n",
    "- Timer\n",
    "- Thymio connexion\n",
    "- sensor measurements\n",
    "- accessor of measurement variables\n",
    "- updoad actual position \n",
    "There are several functions which should be called in a regular interval of time, such as the filter and the Thymio sampling measurements, because the calculation of them need the intergration. The function \"RepeatedTimer\" allows to call an arbitary function in a custormized interval. \n",
    "\n"
   ]
  },
  {
   "cell_type": "code",
   "execution_count": null,
   "metadata": {},
   "outputs": [],
   "source": [
    "class RepeatedTimer(object):\n",
    "    \"\"\"\n",
    "    definition of timer, which can be called in a fixed interval\n",
    "    \"\"\"\n",
    "    def __init__(self, interval, function, *args, **kwargs):\n",
    "        self._timer     = None\n",
    "        self.interval   = interval\n",
    "        self.function   = function\n",
    "        self.args       = args\n",
    "        self.kwargs     = kwargs\n",
    "        self.is_running = False\n",
    "        self.start()\n",
    "\n",
    "    def _run(self):\n",
    "        self.is_running = False\n",
    "        self.start()\n",
    "        self.function(*self.args, **self.kwargs)\n",
    "\n",
    "    def start(self):\n",
    "        if not self.is_running:\n",
    "            self._timer = Timer(self.interval, self._run)\n",
    "            self._timer.start()\n",
    "            self.is_running = True\n",
    "\n",
    "    def stop(self):\n",
    "        self._timer.cancel()\n",
    "        self.is_running = False\n"
   ]
  },
  {
   "cell_type": "code",
   "execution_count": null,
   "metadata": {},
   "outputs": [],
   "source": [
    "def connexion_thymio():\n",
    "    \"\"\"\n",
    "    This function should be called in order to connect Thymio\n",
    "    \"Thymio is connected :)\" will be sent once the connexion is successful\n",
    "    \"\"\"\n",
    "    global th\n",
    "    th = Thymio.serial(port=\"COM5\", refreshing_rate=0.1)\n",
    "    time.sleep(3) # To make sure the Thymio has had time to connect\n",
    "    print(\"Thymio is connected :)\")\n"
   ]
  },
  {
   "cell_type": "code",
   "execution_count": null,
   "metadata": {},
   "outputs": [],
   "source": [
    "def measure_sensor():\n",
    "    \"\"\"\n",
    "    read the measurements of Thymio. The measurements \n",
    "    datas will be stored in global variables\n",
    "    \"\"\"\n",
    "    global value_proximity\n",
    "    global value_acceleration\n",
    "    global value_speed\n",
    "\n",
    "    value_proximity=th['prox.horizontal']\n",
    "    value_acceleration=th['acc']\n",
    "    value_speed=[th['motor.left.speed'],th['motor.right.speed']]\n",
    "    for i in range(2):\n",
    "        if value_speed[i]>600:\n",
    "            value_speed[i]=value_speed[i]-2**16\n",
    "    for i in range(3):\n",
    "        if value_acceleration[i]>600:\n",
    "            value_acceleration[i]=value_acceleration[i]-2**16"
   ]
  },
  {
   "cell_type": "code",
   "execution_count": null,
   "metadata": {},
   "outputs": [],
   "source": [
    "def get_sensor_value():\n",
    "    \"\"\"\n",
    "    The accessor function of measurements from this module.\n",
    "    return: measurements stored in global variables\n",
    "    \"\"\"\n",
    "    return value_proximity,value_acceleration,value_speed\n"
   ]
  },
  {
   "cell_type": "code",
   "execution_count": null,
   "metadata": {},
   "outputs": [],
   "source": [
    "def get_position(robot_pos):\n",
    "    \"\"\"\n",
    "    This function gets the variable containing the information of position \n",
    "    and angle of this robot, unpack this variable to extract and to store \n",
    "    these information into the global variables\n",
    "    \n",
    "    param: \n",
    "    robot_pos :containing position of robot, angle of robot, bool whether robot is detected\n",
    "    \n",
    "    return: \n",
    "    actual_position,actual_angle : actual position and angle of robot\n",
    "    \"\"\"\n",
    "    \n",
    "    global actual_angle\n",
    "    global actual_position\n",
    "    global no_detection\n",
    "  \n",
    "    if robot_pos[2]==True:        # if the robot is detected\n",
    "        no_detection= False\n",
    "        actual_position= [robot_pos[0][0],robot_pos[0][1]] # upload actual state of robot\n",
    "        actual_angle=robot_pos[1]\n",
    "        return actual_position,actual_angle\n",
    "    else:                                                  # if robot is not detected\n",
    "        no_detection=True\n",
    "        return actual_position,actual_angle                # keep the previous state of robot "
   ]
  },
  {
   "cell_type": "markdown",
   "metadata": {},
   "source": [
    "# 5. Motors control functions"
   ]
  },
  {
   "cell_type": "code",
   "execution_count": null,
   "metadata": {},
   "outputs": [],
   "source": [
    "def move(l_speed=500, r_speed=500, verbose=False):\n",
    "    \"\"\"\n",
    "    Sets the motor speeds of the Thymio \n",
    "    param l_speed: left motor speed\n",
    "    param r_speed: right motor speed\n",
    "    param verbose: whether to print status messages or not\n",
    "    \"\"\"\n",
    "    # Printing the speeds if requested\n",
    "    if verbose: print(\"\\t\\t Setting speed : \", l_speed, r_speed)\n",
    "    \n",
    "    # Changing negative values to the expected ones with the bitwise complement\n",
    "    l_speed = l_speed if l_speed>=0 else 2**16+l_speed\n",
    "    r_speed = r_speed if r_speed>=0 else 2**16+r_speed\n",
    "\n",
    "    # Setting the motor speeds\n",
    "    th.set_var(\"motor.left.target\", l_speed)\n",
    "    th.set_var(\"motor.right.target\", r_speed)"
   ]
  },
  {
   "cell_type": "code",
   "execution_count": null,
   "metadata": {},
   "outputs": [],
   "source": [
    "def stop(verbose=False):\n",
    "    \"\"\"\n",
    "    param verbose: whether to print status messages or not\n",
    "    \"\"\"\n",
    "    # Printing the speeds if requested\n",
    "    if verbose:\n",
    "        print(\"\\t\\t Stopping\")\n",
    "\n",
    "    # Setting the motor speeds\n",
    "    th.set_var(\"motor.left.target\", 0)\n",
    "    th.set_var(\"motor.right.target\", 0)"
   ]
  },
  {
   "cell_type": "markdown",
   "metadata": {},
   "source": [
    "# 6. PID controller part:\n",
    "- compute the error \n",
    "- command the motor based on the actualised errors\n",
    "The error is necessary to PID control. We will want the Thymio to aligne to the direction of actual goal. "
   ]
  },
  {
   "cell_type": "code",
   "execution_count": 1,
   "metadata": {},
   "outputs": [],
   "source": [
    "def calculate_error(actual_position,goal,actual_angle):\n",
    "    \"\"\"\n",
    "    This function computes the error between the actual \n",
    "    angle and the target angle, we will try to eliminate\n",
    "    this error with PID controler \n",
    "    \n",
    "    params: \n",
    "    actual_position,goal,actual_angle\n",
    "    \n",
    "    return: \n",
    "    error\n",
    "    \"\"\"\n",
    "    \n",
    "\n",
    "    global error_sum \n",
    "    global no_detection\n",
    "    global error\n",
    "    global error_prev\n",
    "    goal_array = np.array([goal[0],goal[1]])\n",
    "    actual_position_array = np.array([actual_position[0],actual_position[1]])\n",
    "   \n",
    "    direction = goal_array - actual_position_array\n",
    "    angle = np.arctan2(direction[1], direction[0])\n",
    "    error_prev = error\n",
    "    error = -actual_angle + angle \n",
    "\n",
    "    if error < -np.pi:\n",
    "        error += 2*np.pi \n",
    "    if error >  np.pi:\n",
    "        error -= 2*np.pi \n",
    "\n",
    "    error_sum += error\n",
    "\n",
    "    return error"
   ]
  },
  {
   "cell_type": "code",
   "execution_count": null,
   "metadata": {},
   "outputs": [],
   "source": [
    "def follow_the_way_to_dream(actual_position,goal,actual_angle):\n",
    "    '''\n",
    "    This function aims to command the motors of Thymio based on\n",
    "    the angle error previously calculated.\n",
    "    \n",
    "    It has 2 parts of controls to the motor: \n",
    "        - speed for tracking the way to goal if no obstacle is detected\n",
    "        - speed of local avoidance if the obstacle is detected\n",
    "    \n",
    "    params: \n",
    "    actual_position,goal,actual_angle\n",
    "    '''\n",
    "   \n",
    "    global error_sum \n",
    "    global value_proximity\n",
    "    global counter\n",
    "    global speed_avoidance_l_prev\n",
    "    global speed_avoidance_r_prev\n",
    "    '''\n",
    "    part 1: local avoidance motor speed control\n",
    "    Thymio will turn in order to avoid the obstacle\n",
    "    base on the proximity sensor, it uses the memory \n",
    "    in order to \"memorize\" the existance of obstacle. \n",
    "    So Thymio can turn more to avoid it.\n",
    "    \n",
    "    '''\n",
    "\n",
    "    if no_detection==False:\n",
    "        x=np.array([0,0,0,0,0,0,0,0,0])          # array containing the measurement datas and memorized speeds\n",
    "        sensor_scale = 1500\n",
    "        \n",
    "        # ponderation of importance of each sensor contributing the rotation [1:7] \n",
    "        # amplitude of movement for each motor due to avoidance [8:9]\n",
    "        w_l = np.array([40,  20, -20, -20, -40,  30, -10, 8, 0]) \n",
    "        w_r = np.array([-40, -20, 20,  20,  40, -10,  30, 0, 8])\n",
    "        \n",
    "        x[:7]= np.array(value_proximity) / sensor_scale # compute the roration due to obstacle\n",
    "        x[7] = speed_avoidance_l_prev / 10 # memory degradation\n",
    "        x[8] = speed_avoidance_r_prev / 10 \n",
    "\n",
    "        speed_avoidance_l = np.sum(x * w_l)\n",
    "        speed_avoidance_r = np.sum(x * w_r)\n",
    "        speed_avoidance_l_prev=speed_avoidance_l\n",
    "        speed_avoidance_r_prev=speed_avoidance_r\n",
    "\n",
    "        #if memory to abstacle avoidance mode is still existing, higher basis speed to pass through\n",
    "        if x[7] != 0 or x[8] != 0:\n",
    "            base_speed = 150\n",
    "        else :            # if no more memory for obstacle avoidance mode, then back to tracking mode, with lower basis speed\n",
    "            base_speed = 75 \n",
    "\n",
    "\n",
    "        error = calculate_error(actual_position,goal,actual_angle)\n",
    "        \n",
    "        \n",
    "        # define the parameters for PID controler\n",
    "        kp = 100\n",
    "        ki = 3.5\n",
    "        kd = 8\n",
    " \n",
    "        # anti-winding to avoid a too violent move\n",
    "        error_sat = 10         \n",
    "\n",
    "        if error_sum>error_sat:\n",
    "            error_sum=error_sat\n",
    "        if error_sum<-error_sat:\n",
    "            error_sum=-error_sat\n",
    "        \n",
    "        # Compute the speed relative to PID controler\n",
    "        vitesse_PID = kp*error+ki*error_sum + kd *(error-error_prev)\n",
    "\n",
    "        # combining the final speed \n",
    "        speed_l = base_speed + vitesse_PID + speed_avoidance_l\n",
    "        speed_r = base_speed - vitesse_PID + speed_avoidance_r\n",
    "        \n",
    "        move(int(speed_l),int(speed_r))\n",
    "\n",
    "    else:\n",
    "        stop()"
   ]
  },
  {
   "cell_type": "markdown",
   "metadata": {},
   "source": [
    "# 7. Defining the goal and "
   ]
  },
  {
   "cell_type": "code",
   "execution_count": null,
   "metadata": {},
   "outputs": [],
   "source": []
  }
 ],
 "metadata": {
  "kernelspec": {
   "display_name": "Python 3",
   "language": "python",
   "name": "python3"
  },
  "language_info": {
   "codemirror_mode": {
    "name": "ipython",
    "version": 3
   },
   "file_extension": ".py",
   "mimetype": "text/x-python",
   "name": "python",
   "nbconvert_exporter": "python",
   "pygments_lexer": "ipython3",
   "version": "3.8.2"
  }
 },
 "nbformat": 4,
 "nbformat_minor": 4
}
