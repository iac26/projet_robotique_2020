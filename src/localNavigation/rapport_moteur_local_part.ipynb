{
 "cells": [
  {
   "cell_type": "markdown",
   "metadata": {},
   "source": []
  },
  {
   "cell_type": "markdown",
   "metadata": {},
   "source": [
    "## 1. import necessary libraries\n",
    "In the module \"local navigation\" of this project, we will need to use several external libraries to complete the tache."
   ]
  },
  {
   "cell_type": "code",
   "execution_count": null,
   "metadata": {},
   "outputs": [],
   "source": [
    "import sys\n",
    "import time\n",
    "import cv2\n",
    "import serial\n",
    "import math\n",
    "from threading import Timer\n",
    "import numpy as np\n",
    "sys.path.append(\"localNavigation\")\n",
    "from Thymio import Thymio"
   ]
  },
  {
   "cell_type": "markdown",
   "metadata": {},
   "source": [
    "## 2. Define constants\n",
    "We define some constants which will be used for several usages: \n",
    "- to scale the motors command in the desired interval\n",
    "- to correctly define the PID controler\n",
    "- to avoid the uncertainty of robot's behavior.\n"
   ]
  },
  {
   "cell_type": "code",
   "execution_count": 2,
   "metadata": {},
   "outputs": [],
   "source": [
    "# used for defining the position tolerance while moving forward to a coordinate\n",
    "SENSOR_SCALE = 1500\n",
    "MEMORY_FACTOR = 10\n",
    "BASE_SPEED_HIGH = 150\n",
    "BASE_SPEED_LOW = 75\n",
    "\n",
    "# PID controler\n",
    "KP = 100\n",
    "KI = 3.5\n",
    "KD = 8\n",
    "ERROR_SATURATION = 10\n",
    "\n",
    "# tolerance for unprecision\n",
    "TOLERENCE_POSITION = 10"
   ]
  },
  {
   "cell_type": "markdown",
   "metadata": {},
   "source": [
    "## 3. Define global variables\n",
    "We define equally several global variables which will be useful for local navigation. These variables will be used by different motor commande functions for several times. The variable group \"error\" is useful for computing PID controler, and the memorised speeds will be useful in case of ANN local avoidance.  "
   ]
  },
  {
   "cell_type": "code",
   "execution_count": null,
   "metadata": {},
   "outputs": [],
   "source": [
    "value_proximity = [0,0,0,0,0,0,0]  # stores horizontal proximity measurements \n",
    "value_speed = [0,0]                # stores motors' speeds measurements \n",
    "actual_position = [0,0]            # stores actual position  \n",
    "actual_angle = 0                   # stores actual angle with x axis \n",
    "actual_goal = [0,0]                # stores next goal position \n",
    "no_detection = False               # stores boolien flag for detection of obstacle.  \n",
    "\n",
    "# These variables will be used for PID controller \n",
    "error_sum = 0                      \n",
    "error = 0\n",
    "error_prev=0\n",
    "\n",
    "# These variables will be used for local avoidance (memory)\n",
    "speed_avoidance_l_prev = 0\n",
    "speed_avoidance_r_prev = 0"
   ]
  },
  {
   "cell_type": "markdown",
   "metadata": {},
   "source": [
    "##  4. Definition of fondamental functions:\n",
    "- Timer\n",
    "- Thymio connexion\n",
    "- sensor measurements\n",
    "- accessor of measurement variables\n",
    "- updoad actual position \n",
    "There are several functions which should be called in a regular interval of time, such as the filter and the Thymio sampling measurements, because the calculation of them need the intergration. The function \"RepeatedTimer\" allows to call an arbitary function in a custormized interval. \n",
    "\n"
   ]
  },
  {
   "cell_type": "code",
   "execution_count": null,
   "metadata": {},
   "outputs": [],
   "source": [
    "class RepeatedTimer(object):\n",
    "    \"\"\"\n",
    "    definition of timer, which can be called in a fixed interval\n",
    "    \"\"\"\n",
    "    def __init__(self, interval, function, *args, **kwargs):\n",
    "        self._timer     = None\n",
    "        self.interval   = interval\n",
    "        self.function   = function\n",
    "        self.args       = args\n",
    "        self.kwargs     = kwargs\n",
    "        self.is_running = False\n",
    "        self.start()\n",
    "\n",
    "    def _run(self):\n",
    "        self.is_running = False\n",
    "        self.start()\n",
    "        self.function(*self.args, **self.kwargs)\n",
    "\n",
    "    def start(self):\n",
    "        if not self.is_running:\n",
    "            self._timer = Timer(self.interval, self._run)\n",
    "            self._timer.start()\n",
    "            self.is_running = True\n",
    "\n",
    "    def stop(self):\n",
    "        self._timer.cancel()\n",
    "        self.is_running = False\n"
   ]
  },
  {
   "cell_type": "code",
   "execution_count": null,
   "metadata": {},
   "outputs": [],
   "source": [
    "def connexion_thymio():\n",
    "    \"\"\"\n",
    "    This function should be called in order to connect Thymio\n",
    "    \"Thymio is connected :)\" will be sent once the connexion is successful\n",
    "    \"\"\"\n",
    "    global th\n",
    "    th = Thymio.serial(port=\"COM5\", refreshing_rate=0.1)\n",
    "    time.sleep(10) # To make sure the Thymio has had time to connect\n",
    "    print(\"Thymio is connected :)\")"
   ]
  },
  {
   "cell_type": "code",
   "execution_count": null,
   "metadata": {},
   "outputs": [],
   "source": [
    "def deconnexion_thymio():\n",
    "    \"\"\"\n",
    "    Deconnect Thymio once mission is accomplished\n",
    "    \"\"\"\n",
    "    time.sleep(1)\n",
    "    th.close()\n"
   ]
  },
  {
   "cell_type": "code",
   "execution_count": null,
   "metadata": {},
   "outputs": [],
   "source": [
    "def measure_sensor():\n",
    "    \"\"\"\n",
    "    read the measurements of Thymio. The measurements \n",
    "    datas will be stored in global variables\n",
    "    \"\"\"\n",
    "    global value_proximity\n",
    "    global value_speed\n",
    "\n",
    "    value_proximity=th['prox.horizontal']\n",
    "    value_speed=[th['motor.left.speed'],th['motor.right.speed']]\n",
    "    for i in range(2):\n",
    "        if value_speed[i]>600:\n",
    "            value_speed[i]=value_speed[i]-2**16\n",
    "    return value_proximity,value_speed"
   ]
  },
  {
   "cell_type": "code",
   "execution_count": null,
   "metadata": {},
   "outputs": [],
   "source": [
    "def get_position(robot_pos):\n",
    "    \"\"\"\n",
    "    This function gets the result of Kalman filter, a variable containing the information of position \n",
    "    and angle of this robot, unpack this variable to extract and to store \n",
    "    these information into the global variables\n",
    "    \n",
    "    param: \n",
    "    robot_pos :containing position of robot, angle of robot, bool whether robot is detected\n",
    "    \n",
    "    return: \n",
    "    actual_position,actual_angle : actual position and angle of robot\n",
    "    \"\"\"\n",
    "    \n",
    "    global actual_angle\n",
    "    global actual_position\n",
    "    global no_detection\n",
    "  \n",
    "    if robot_pos[2]==True:        # if the robot is detected\n",
    "        no_detection= False\n",
    "        actual_position= [robot_pos[0][0],robot_pos[0][1]] # upload actual state of robot\n",
    "        actual_angle=robot_pos[1]\n",
    "        return actual_position,actual_angle\n",
    "    else:                                                  # if robot is not detected\n",
    "        no_detection=True\n",
    "        return actual_position,actual_angle                # keep the previous state of robot "
   ]
  },
  {
   "cell_type": "markdown",
   "metadata": {},
   "source": [
    "## 5. Motors control functions"
   ]
  },
  {
   "cell_type": "code",
   "execution_count": null,
   "metadata": {},
   "outputs": [],
   "source": [
    "def move(l_speed=500, r_speed=500, verbose=False):\n",
    "    \"\"\"\n",
    "    Sets the motor speeds of the Thymio \n",
    "    param l_speed: left motor speed\n",
    "    param r_speed: right motor speed\n",
    "    param verbose: whether to print status messages or not\n",
    "    \"\"\"\n",
    "    # Printing the speeds if requested\n",
    "    if verbose: print(\"\\t\\t Setting speed : \", l_speed, r_speed)\n",
    "    \n",
    "    # Changing negative values to the expected ones with the bitwise complement\n",
    "    l_speed = l_speed if l_speed>=0 else 2**16+l_speed\n",
    "    r_speed = r_speed if r_speed>=0 else 2**16+r_speed\n",
    "\n",
    "    # Setting the motor speeds\n",
    "    th.set_var(\"motor.left.target\", l_speed)\n",
    "    th.set_var(\"motor.right.target\", r_speed)"
   ]
  },
  {
   "cell_type": "code",
   "execution_count": null,
   "metadata": {},
   "outputs": [],
   "source": [
    "def stop(verbose=False):\n",
    "    \"\"\"\n",
    "    param verbose: whether to print status messages or not\n",
    "    \"\"\"\n",
    "    # Printing the speeds if requested\n",
    "    if verbose:\n",
    "        print(\"\\t\\t Stopping\")\n",
    "\n",
    "    # Setting the motor speeds\n",
    "    th.set_var(\"motor.left.target\", 0)\n",
    "    th.set_var(\"motor.right.target\", 0)"
   ]
  },
  {
   "cell_type": "markdown",
   "metadata": {},
   "source": [
    "## 6. Local navigation and motor control :\n",
    "In our project, the trajectory of robot is constitued by a series of coordinates of passage points. In order to make Thymio  move to a given coordinate (here goal) and be able to avoid the obstacles near to it on the way, we control the Thymio with <b>3 speeds in parallel </b> : \n",
    "- <b>Basis speed</b> on the both right and left wheels for moving forward. \n",
    "- <b>Differential speeds</b> on 2 wheels for aligning to the goal direction.\n",
    "- <b>Differential speeds</b> on 2 wheels for avoiding the obstacles.\n",
    "\n",
    "\n",
    "### Trajectory tracking with PID controler\n",
    "\n",
    "In order to track correctly the trajectory, our strategy consists of making aligne Thymio all the time to the goal while moving forward. Here we will define the <b>\"error angle\"</b> as the how much Thymio should rotate in order to aligne with the goal. During the tracking, Thymio computes in each iteration the error angle and commands the motors in fonction of this error. The error angle is computed based on the knowlege of Thymio's actual position, goal position and Thymio's actual orientation. A simplified schemas can illustrate this geometry problem, we will adapt the sign convention of angle, positive for clockwise and negative for counter clockwise: \n",
    "\n",
    "<div>\n",
    "<img src=\"error_compute.PNG\" width=\"700\"/>\n",
    "</div>\n",
    "\n",
    "Once the error angle is obtained, Thymio will move. The motors command of Thymio at time T is generated by a PID controler, which controls the wheels speed in using the error. We simply compute the $\\sum_{t=0}^T e(t)$ by summing up the errors from beginning $e(0)$ to the moment T $e(T)$, and $\\delta error$ by calculating the difference between actual error $e(T)$ and $e(T-1)$, the error at time T-1.\n",
    "\n",
    "$$CommandInSpeed(T)= K_P * e(T) + K_I * \\sum_{t=0}^T e(t) + K_D * \\delta e(t) $$\n",
    "\n",
    "Then comes to experiment and tune the PID parameters: $K_P$,$K_D$ and $K_I$.\n",
    "Our robot is expected to rotate quickly to aligne to the goal direction while moving forward, so we need high $K_P$ to increase <b>the reaction of robot due to error</b>, then $K_I$ is added to <b>vanish the permenant angle error</b>. However, we observe that Thymio moved with lots of overshoot, so the term $K_D$ is added at the end to <b>reduce this overshoot</b>. We also put an <b>anti-windup system </b> which saturates the sum of error, in order to avoid not only saturation of actuators, but also the excess violent action. \n",
    "\n",
    "\n",
    "\n",
    "\n",
    "### Local avoidance using  Artificial Neural Networks with Memory\n",
    "\n",
    "\n",
    "\n",
    "The objective of local avoidance is that Thymio should detect and avoid the obstacles on its way, while keeping tracking the trajectory to the goal as good as possible. To achieve this behavior, the speed command of Thymio should not only contain the avoidance speed, but also the PID control speed which intent to align Thymio's orientation to the goal. \n",
    "\n",
    "The major difficulty in the design of a such avoidance speed controler comes from the fact that, Thymio has only proximity sensors in front and behind, but not on the sides. Since the local avoidance imposes that the obstacle should only be detected by proximity sensors, camera should not give any information about it to Thymio. Once Thymio successes to avoid the obstacle, the moment that the obstacle is not visible to Thymio (at time T=t+2h in the figure), Thymio will be controled only by PID tracking speed. Since the term of error and the sum of error are strongly increased during the avoidance phase, the PID controler will give a very high command on motors in order to aligne Thymio to the goal, which leads to the collision. \n",
    "To minimize this accident, we implement the <b>avoidance controler</b> in giving Thymio the capacity to <i>\"memorize\"</i>. This controler is based on the <b>artificial neural networks</b>.\n",
    "\n",
    "<div>\n",
    "<img src=\"memory_comparaison.PNG\" width=\"700\"/>\n",
    "</div>\n",
    "\n",
    "The working principe of our ANN controler is below: for each iteration, 7 proximity sensors measure the environment, these measurements are stored in an array x[0:7]. Each sensor measurment is assigned to a weight, the weights of all 7 sensors measurements are stored in the arrays w_l[0:7] and w_r[0:7], the amplitude of weight means the importance of the measurement to the wheels' speed, the signe of weight impact the direction of wheels' speed.\n",
    "Concerning the memory part, x[7] and x[8] store the \"degraded memory\". The final speeds of left and right wheels are obtained by the multiplication between x array and w array. With this approch, the actual avoidance speed is not only dependent on proiomity sensors measurements, but also on the <i>\"memory\"</i> of previous avoidance speeds, so that Thymio can stay in avoidance phase longer, in order to better pass through the obstacle without collision (see Figure right).\n",
    "\n"
   ]
  },
  {
   "cell_type": "code",
   "execution_count": 1,
   "metadata": {},
   "outputs": [],
   "source": [
    "def calculate_error(actual_position,goal,actual_angle):\n",
    "    \"\"\"\n",
    "    This function computes the error between the actual \n",
    "    angle and the target angle, we will try to eliminate\n",
    "    this error with PID controler \n",
    "    \n",
    "    params: \n",
    "    actual_position,goal,actual_angle\n",
    "    \n",
    "    return: \n",
    "    error\n",
    "    \"\"\"\n",
    "    \n",
    "    global error_sum \n",
    "    global no_detection\n",
    "    global error\n",
    "    global error_prev\n",
    "    \n",
    "    goal_array = np.array([goal[0],goal[1]])\n",
    "    actual_position_array = np.array([actual_position[0],actual_position[1]])\n",
    "   \n",
    "    direction = goal_array - actual_position_array\n",
    "    angle = np.arctan2(direction[1], direction[0])\n",
    "    error_prev = error\n",
    "    error = -actual_angle + angle \n",
    "\n",
    "    if error < -np.pi:\n",
    "        error += 2*np.pi \n",
    "    if error >  np.pi:\n",
    "        error -= 2*np.pi \n",
    "\n",
    "    error_sum += error\n",
    "\n",
    "    return error"
   ]
  },
  {
   "cell_type": "code",
   "execution_count": null,
   "metadata": {},
   "outputs": [],
   "source": [
    "def follow_the_way_to_dream(actual_position,goal,actual_angle):\n",
    "    '''\n",
    "    This function aims to command the motors of Thymio based on\n",
    "    the angle error previously calculated.\n",
    "    \n",
    "    It has 2 parts of controls to the motor: \n",
    "        - speed for tracking the way to goal if no obstacle is detected\n",
    "        - speed of local avoidance if the obstacle is detected\n",
    "    \n",
    "    params: \n",
    "    actual_position,goal,actual_angle\n",
    "    '''\n",
    "    global error_sum \n",
    "    global value_proximity\n",
    "    global speed_avoidance_l_prev\n",
    "    global speed_avoidance_r_prev\n",
    "\n",
    "    \n",
    "\n",
    "    if no_detection == False:\n",
    "\n",
    "        '''\n",
    "        part 1: local avoidance motor speed control\n",
    "        Thymio will turn in order to avoid the obstacle\n",
    "        base on the proximity sensor, it uses the memory \n",
    "        in order to \"memorize\" the existance of obstacle. \n",
    "        So Thymio can turn more to avoid it.\n",
    "        \n",
    "        '''\n",
    "        x = np.array([0,0,0,0,0,0,0,0,0])      # array containing the measurement datas and memorized speeds\n",
    "        \n",
    "        \n",
    "        # ponderation of importance of each sensor contributing the rotation [1:7] \n",
    "        # amplitude of movement for each motor due to avoidance [8:9]\n",
    "        w_l = np.array([40,  20, -20, -20, -40,  30, -10, 8, 0])\n",
    "        w_r = np.array([-40, -20, 20,  20,  40, -10,  30, 0, 8])\n",
    "\n",
    "        x[:7]= np.array(value_proximity) / SENSOR_SCALE     # compute the roration due to obstacle\n",
    "        x[7] = speed_avoidance_l_prev / MEMORY_FACTOR       # memory degradation\n",
    "        x[8] = speed_avoidance_r_prev / MEMORY_FACTOR \n",
    "\n",
    "        speed_avoidance_l = np.sum(x * w_l)\n",
    "        speed_avoidance_r = np.sum(x * w_r)\n",
    "        speed_avoidance_l_prev=speed_avoidance_l\n",
    "        speed_avoidance_r_prev=speed_avoidance_r\n",
    "\n",
    "\n",
    "        #if memory to abstacle avoidance mode is still existing, higher basis speed to pass through\n",
    "        if x[7] != 0 or x[8] != 0:\n",
    "            base_speed = BASE_SPEED_HIGH\n",
    "        else : \n",
    "            base_speed = BASE_SPEED_LOW\n",
    "\n",
    "        '''\n",
    "        part 2: PID motor speed control\n",
    "        Thymio will try to ajuste its move orientation and turn in order to aligne \n",
    "        to the goal all the time\n",
    "        \n",
    "        '''\n",
    "\n",
    "        error = calculate_error(actual_position,goal,actual_angle)\n",
    "        \n",
    "\n",
    "        if error_sum > ERROR_SATURATION:\n",
    "            error_sum = ERROR_SATURATION\n",
    "        if error_sum < -ERROR_SATURATION:\n",
    "            error_sum = -ERROR_SATURATION\n",
    "        \n",
    "        \n",
    "        # Compute the speed relative to PID controler\n",
    "        vitesse_PID = KP * error + KI * error_sum + KD *(error-error_prev)\n",
    "\n",
    "        # combining the final speed \n",
    "        speed_l = base_speed + vitesse_PID + speed_avoidance_l\n",
    "        speed_r = base_speed - vitesse_PID + speed_avoidance_r\n",
    "\n",
    "        move(int(speed_l),int(speed_r))\n",
    "  \n",
    "    else:\n",
    "        stop()"
   ]
  },
  {
   "cell_type": "markdown",
   "metadata": {},
   "source": [
    "## 7. Defining the next destination\n",
    "Since there will be a several points generated in the list of trajectory, Thymio should pass them one after another, so it's inportant for Thymio to know which point is its actual destination. \n",
    "Firstly, in the initialization, we will assigne to Thymio the first point which is in the list of destination. Then, Thymio will move. \n",
    "The function detect_trajectoy aims to compare the actual position of Thymio and the actual goal to go. If the position of Thymio is in side of the cercle centered in actual goal with the radius TOLERENCE_POSITION, then we consider that Thymio arrive at the goal, so we update the actual goal to go. "
   ]
  },
  {
   "cell_type": "code",
   "execution_count": null,
   "metadata": {},
   "outputs": [],
   "source": [
    "def detect_trajectory(actual_position,goal_actual): \n",
    "    \"\"\"\n",
    "    param: actual_position,goal_actual\n",
    "    return: True or False depending on if Thymio is on the goal   \n",
    "    \"\"\" \n",
    "    if (abs(goal_actual[0]-actual_position[0]) <= TOLERENCE_POSITION) and (abs(goal_actual[1]-actual_position[1])<=TOLERENCE_POSITION):   \n",
    "        return True\n",
    "    else:\n",
    "        return False\n"
   ]
  },
  {
   "cell_type": "code",
   "execution_count": 1,
   "metadata": {},
   "outputs": [],
   "source": [
    "def mission_accomplished():\n",
    "    \"\"\"\n",
    "    param: none\n",
    "    This function prints \"Mission is accomplished!! \" when Thymio has passed all the points  \n",
    "    \"\"\" \n",
    "    stop()\n",
    "    print(\"Mission is accomplished!! \")\n"
   ]
  },
  {
   "cell_type": "code",
   "execution_count": null,
   "metadata": {},
   "outputs": [],
   "source": []
  }
 ],
 "metadata": {
  "kernelspec": {
   "display_name": "Python 3",
   "language": "python",
   "name": "python3"
  },
  "language_info": {
   "codemirror_mode": {
    "name": "ipython",
    "version": 3
   },
   "file_extension": ".py",
   "mimetype": "text/x-python",
   "name": "python",
   "nbconvert_exporter": "python",
   "pygments_lexer": "ipython3",
   "version": "3.8.2"
  },
  "varInspector": {
   "cols": {
    "lenName": 16,
    "lenType": 16,
    "lenVar": 40
   },
   "kernels_config": {
    "python": {
     "delete_cmd_postfix": "",
     "delete_cmd_prefix": "del ",
     "library": "var_list.py",
     "varRefreshCmd": "print(var_dic_list())"
    },
    "r": {
     "delete_cmd_postfix": ") ",
     "delete_cmd_prefix": "rm(",
     "library": "var_list.r",
     "varRefreshCmd": "cat(var_dic_list()) "
    }
   },
   "types_to_exclude": [
    "module",
    "function",
    "builtin_function_or_method",
    "instance",
    "_Feature"
   ],
   "window_display": false
  }
 },
 "nbformat": 4,
 "nbformat_minor": 4
}
