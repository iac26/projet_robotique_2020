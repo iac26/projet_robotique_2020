{
 "cells": [
  {
   "cell_type": "code",
   "execution_count": 2,
   "metadata": {},
   "outputs": [
    {
     "name": "stdout",
     "output_type": "stream",
     "text": [
      "{'name': '_id', 'offset': 0, 'size': 1}\n",
      "{'name': 'event.source', 'offset': 1, 'size': 1}\n",
      "{'name': 'event.args', 'offset': 2, 'size': 32}\n",
      "{'name': '_fwversion', 'offset': 34, 'size': 2}\n",
      "{'name': '_productId', 'offset': 36, 'size': 1}\n",
      "{'name': 'buttons._raw', 'offset': 37, 'size': 5}\n",
      "{'name': 'button.backward', 'offset': 42, 'size': 1}\n",
      "{'name': 'button.left', 'offset': 43, 'size': 1}\n",
      "{'name': 'button.center', 'offset': 44, 'size': 1}\n",
      "{'name': 'button.forward', 'offset': 45, 'size': 1}\n",
      "{'name': 'button.right', 'offset': 46, 'size': 1}\n",
      "{'name': 'buttons._mean', 'offset': 47, 'size': 5}\n",
      "{'name': 'buttons._noise', 'offset': 52, 'size': 5}\n",
      "{'name': 'prox.horizontal', 'offset': 57, 'size': 7}\n",
      "{'name': 'prox.comm.rx._payloads', 'offset': 64, 'size': 7}\n",
      "{'name': 'prox.comm.rx._intensities', 'offset': 71, 'size': 7}\n",
      "{'name': 'prox.comm.rx', 'offset': 78, 'size': 1}\n",
      "{'name': 'prox.comm.tx', 'offset': 79, 'size': 1}\n",
      "{'name': 'prox.ground.ambiant', 'offset': 80, 'size': 2}\n",
      "{'name': 'prox.ground.reflected', 'offset': 82, 'size': 2}\n",
      "{'name': 'prox.ground.delta', 'offset': 84, 'size': 2}\n",
      "{'name': 'motor.left.target', 'offset': 86, 'size': 1}\n",
      "{'name': 'motor.right.target', 'offset': 87, 'size': 1}\n",
      "{'name': '_vbat', 'offset': 88, 'size': 2}\n",
      "{'name': '_imot', 'offset': 90, 'size': 2}\n",
      "{'name': 'motor.left.speed', 'offset': 92, 'size': 1}\n",
      "{'name': 'motor.right.speed', 'offset': 93, 'size': 1}\n",
      "{'name': 'motor.left.pwm', 'offset': 94, 'size': 1}\n",
      "{'name': 'motor.right.pwm', 'offset': 95, 'size': 1}\n",
      "{'name': '_integrator', 'offset': 96, 'size': 2}\n",
      "{'name': 'acc', 'offset': 98, 'size': 3}\n",
      "{'name': 'leds.top', 'offset': 101, 'size': 3}\n",
      "{'name': 'leds.bottom.left', 'offset': 104, 'size': 3}\n",
      "{'name': 'leds.bottom.right', 'offset': 107, 'size': 3}\n",
      "{'name': 'leds.circle', 'offset': 110, 'size': 8}\n",
      "{'name': 'temperature', 'offset': 118, 'size': 1}\n",
      "{'name': 'rc5.address', 'offset': 119, 'size': 1}\n",
      "{'name': 'rc5.command', 'offset': 120, 'size': 1}\n",
      "{'name': 'mic.intensity', 'offset': 121, 'size': 1}\n",
      "{'name': 'mic.threshold', 'offset': 122, 'size': 1}\n",
      "{'name': 'mic._mean', 'offset': 123, 'size': 1}\n",
      "{'name': 'timer.period', 'offset': 124, 'size': 2}\n",
      "{'name': 'acc._tap', 'offset': 126, 'size': 1}\n",
      "{'name': 'sd.present', 'offset': 127, 'size': 1}\n"
     ]
    }
   ],
   "source": [
    "import os\n",
    "import sys\n",
    "import time\n",
    "import serial\n",
    "import math\n",
    "import numpy as np\n",
    "from tqdm import tqdm\n",
    "from statistics import mean\n",
    "import pandas as pd\n",
    "from scipy.interpolate import interp1d\n",
    "from local_occupancy import sensor_measurements, sensor_distances\n",
    "from local_occupancy import thymio_coords, sensor_pos_from_center, sensor_angles\n",
    "%matplotlib inline\n",
    "\n",
    "sys.path.insert(0, os.path.join(os.getcwd(), 'src'))\n",
    "\n",
    "from Thymio import Thymio\n",
    "\n",
    "test_functions = False\n",
    "\n",
    "th = Thymio.serial(port=\"COM8\", refreshing_rate=0.1)\n",
    "\n",
    "time.sleep(3) # To make sure the Thymio has had time to connect\n",
    "\n",
    "variables = th.variable_description()\n",
    "\n",
    "for var in variables : \n",
    "    print(var)"
   ]
  },
  {
   "cell_type": "markdown",
   "metadata": {},
   "source": [
    "# adding timer for sampling the proximity sensors datas"
   ]
  },
  {
   "cell_type": "code",
   "execution_count": null,
   "metadata": {},
   "outputs": [],
   "source": [
    "from threading import Timer\n",
    "\n",
    "class RepeatedTimer(object):\n",
    "    def __init__(self, interval, function, *args, **kwargs):\n",
    "        self._timer     = None\n",
    "        self.interval   = interval\n",
    "        self.function   = function\n",
    "        self.args       = args\n",
    "        self.kwargs     = kwargs\n",
    "        self.is_running = False\n",
    "        self.start()\n",
    "\n",
    "    def _run(self):\n",
    "        self.is_running = False\n",
    "        self.start()\n",
    "        self.function(*self.args, **self.kwargs)\n",
    "\n",
    "    def start(self):\n",
    "        if not self.is_running:\n",
    "            self._timer = Timer(self.interval, self._run)\n",
    "            self._timer.start()\n",
    "            self.is_running = True\n",
    "\n",
    "    def stop(self):\n",
    "        self._timer.cancel()\n",
    "        self.is_running = False\n"
   ]
  },
  {
   "cell_type": "code",
   "execution_count": null,
   "metadata": {},
   "outputs": [],
   "source": [
    "from time import sleep\n",
    "Ts=1\n",
    "value_proximity=0\n",
    "\n",
    "\n",
    "def print_sensor_values():\n",
    "    global value_proximity\n",
    "    value_proximity=th['prox.horizontal']\n",
    "    #print(\"proximity: \",value_proximity)\n",
    "    #print(\"accelaration: \",value_acceleration)\n",
    "    #print(\"motors' speed: \",value_speed)\n",
    "\n",
    "\n",
    "#print_sensor_values('prox.horizontal')"
   ]
  },
  {
   "cell_type": "code",
   "execution_count": null,
   "metadata": {},
   "outputs": [],
   "source": [
    "rt = RepeatedTimer(Ts, print_sensor_values)\n",
    "print(value_proximity)"
   ]
  },
  {
   "cell_type": "markdown",
   "metadata": {},
   "source": [
    "# A PI controler based on angle error\n",
    "- (x_a,y_a) = actual position \n",
    "- (x_goal,y_goal) = goal position\n",
    "- angle_actual = actual angle to axis x\n",
    "then the angle we should correct is angle_goal "
   ]
  },
  {
   "cell_type": "markdown",
   "metadata": {},
   "source": [
    "I. Get (x_a, y_a), (x_goal, y_goal), actual_angle"
   ]
  },
  {
   "cell_type": "code",
   "execution_count": 18,
   "metadata": {},
   "outputs": [],
   "source": [
    "#### à corriger\n",
    "actual_position = [0,0]\n",
    "goal = [1,0.3333]\n",
    "actual_angle = 0 \n",
    "error_sum = 0\n"
   ]
  },
  {
   "cell_type": "code",
   "execution_count": 19,
   "metadata": {},
   "outputs": [],
   "source": [
    "def compute_angle_goal (actual_position,goal,actual_angle):\n",
    "    return math.atan((goal[1]-actual_position[1])/(goal[0]-actual_position[0]))-actual_angle\n",
    "    "
   ]
  },
  {
   "cell_type": "code",
   "execution_count": 20,
   "metadata": {},
   "outputs": [
    {
     "name": "stdout",
     "output_type": "stream",
     "text": [
      "0.3217205540966482\n"
     ]
    }
   ],
   "source": [
    "angle_goal =compute_angle_goal(actual_position,goal,actual_angle)\n",
    "print(angle_goal)"
   ]
  },
  {
   "cell_type": "code",
   "execution_count": 21,
   "metadata": {},
   "outputs": [],
   "source": [
    "def follow_the_way_to_dream(actual_position,goal,actual_angle):\n",
    "    \"\"\"\n",
    "    base_speed, kp,ki à tunner\n",
    "    \"\"\"\n",
    "    global error_sum \n",
    "    base_speed = 50\n",
    "    kp = 10\n",
    "    ki = 10\n",
    "    error = compute_angle_goal(actual_position,goal,actual_angle)\n",
    "    error_sum = error_sum + error\n",
    "    speed_l= base_speed - (kp*error+ki*error_sum)\n",
    "    speed_r= base_speed + (kp*error+ki*error_sum)\n",
    "    print(\"error: \",error)    \n",
    "    print(\"speed left: \",speed_l)    \n",
    "    print(\"speed right: \",speed_r) \n",
    "    \n",
    "    #call move then \n",
    "    \n",
    "    \n",
    "    "
   ]
  },
  {
   "cell_type": "markdown",
   "metadata": {},
   "source": [
    "    \"\"\"\n",
    "    if detect_mechant : \n",
    "    fait le lacal avoidance\n",
    "        \n",
    "    \"\"\""
   ]
  },
  {
   "cell_type": "code",
   "execution_count": 29,
   "metadata": {},
   "outputs": [
    {
     "name": "stdout",
     "output_type": "stream",
     "text": [
      "error:  0.3217205540966482\n",
      "speed left:  21.045150131301664\n",
      "speed right:  78.95484986869833\n"
     ]
    }
   ],
   "source": [
    "follow_the_way_to_dream(actual_position,goal,actual_angle)"
   ]
  },
  {
   "cell_type": "code",
   "execution_count": null,
   "metadata": {},
   "outputs": [],
   "source": []
  },
  {
   "cell_type": "code",
   "execution_count": null,
   "metadata": {},
   "outputs": [],
   "source": []
  }
 ],
 "metadata": {
  "kernelspec": {
   "display_name": "Python 3",
   "language": "python",
   "name": "python3"
  },
  "language_info": {
   "codemirror_mode": {
    "name": "ipython",
    "version": 3
   },
   "file_extension": ".py",
   "mimetype": "text/x-python",
   "name": "python",
   "nbconvert_exporter": "python",
   "pygments_lexer": "ipython3",
   "version": "3.8.2"
  }
 },
 "nbformat": 4,
 "nbformat_minor": 4
}
